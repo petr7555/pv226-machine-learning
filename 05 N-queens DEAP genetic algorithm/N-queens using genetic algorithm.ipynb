{
 "cells": [
  {
   "cell_type": "code",
   "execution_count": 1,
   "id": "greatest-armor",
   "metadata": {},
   "outputs": [],
   "source": [
    "import random\n",
    "\n",
    "from deap import base, creator, tools, algorithms"
   ]
  },
  {
   "cell_type": "code",
   "execution_count": 14,
   "id": "studied-catering",
   "metadata": {},
   "outputs": [],
   "source": [
    "N_QUEENS = 8\n",
    "random.seed(42)\n",
    "\n",
    "creator.create(\"FitnessMin\", base.Fitness, weights=(-1.0,))\n",
    "creator.create(\"Individual\", list, fitness=creator.FitnessMin)\n",
    " \n",
    "toolbox = base.Toolbox()\n",
    "toolbox.register(\"permutation\", random.sample, range(N_QUEENS), N_QUEENS)\n",
    "toolbox.register(\"individual\", tools.initIterate, creator.Individual,\n",
    "                 toolbox.permutation)\n",
    "toolbox.register(\"population\", tools.initRepeat, list, toolbox.individual)\n",
    "  \n",
    "    \n",
    "toolbox.register(\"select\", tools.selTournament, tournsize=3)\n",
    "toolbox.register(\"mate\", tools.cxPartialyMatched)\n",
    "toolbox.register(\"mutate\", tools.mutShuffleIndexes, indpb=0.2)"
   ]
  },
  {
   "cell_type": "code",
   "execution_count": 15,
   "id": "noble-material",
   "metadata": {},
   "outputs": [],
   "source": [
    "def visualize(queens):\n",
    "    print(queens)\n",
    "    print(\"  \" + \"|\".join([str(i) for i in range(len(queens))]) + \"|\")\n",
    "    for row in range(len(queens)):\n",
    "        col = queens.index(row)\n",
    "        print(str(row) + \"| \"*(col) + \"|x\" + \"| \"*(len(queens)-col))"
   ]
  },
  {
   "cell_type": "code",
   "execution_count": 16,
   "id": "significant-gazette",
   "metadata": {
    "scrolled": true
   },
   "outputs": [
    {
     "name": "stdout",
     "output_type": "stream",
     "text": [
      "[1, 0, 5, 2, 7, 6, 4, 3]\n",
      "  0|1|2|3|4|5|6|7|\n",
      "0| |x| | | | | | | \n",
      "1|x| | | | | | | | \n",
      "2| | | |x| | | | | \n",
      "3| | | | | | | |x| \n",
      "4| | | | | | |x| | \n",
      "5| | |x| | | | | | \n",
      "6| | | | | |x| | | \n",
      "7| | | | |x| | | | \n"
     ]
    }
   ],
   "source": [
    "ind = list(toolbox.individual())\n",
    "visualize(ind)"
   ]
  },
  {
   "cell_type": "markdown",
   "id": "packed-somewhere",
   "metadata": {},
   "source": [
    "One complete solution. Each index of list corresponds to one columns. Value on that index is a number number of row.\n",
    "The queens are therefore always in different columns (indices in list are unique) and also in different row (random.sample takes N_QUEENS WITHOUT replacement, so all values in this list are unique).\n",
    "Only think to be taken care of is the diagonals."
   ]
  },
  {
   "cell_type": "code",
   "execution_count": 17,
   "id": "personalized-roller",
   "metadata": {},
   "outputs": [],
   "source": [
    "# number of endangered queens\n",
    "def evaluate(queens):\n",
    "    conflicts = 0\n",
    "    for col1 in range(len(queens)):\n",
    "        for col2 in range(col1+1,len(queens)):\n",
    "            row1 = queens[col1]\n",
    "            row2 = queens[col2]\n",
    "            if abs(row2-row1) == abs(col1-col2):\n",
    "                conflicts += 1\n",
    "    return conflicts,\n",
    "\n",
    "assert evaluate([0,1,2]) == (3,)\n",
    "assert evaluate([1,3,0,2]) == (0,)\n",
    "toolbox.register(\"evaluate\", evaluate)"
   ]
  },
  {
   "cell_type": "code",
   "execution_count": 18,
   "id": "fluid-archives",
   "metadata": {},
   "outputs": [
    {
     "name": "stdout",
     "output_type": "stream",
     "text": [
      "gen\tnevals\n",
      "0  \t200   \n",
      "1  \t102   \n",
      "2  \t127   \n",
      "3  \t119   \n",
      "4  \t114   \n",
      "5  \t115   \n",
      "6  \t118   \n",
      "7  \t124   \n",
      "8  \t119   \n",
      "9  \t115   \n",
      "10 \t112   \n",
      "11 \t131   \n",
      "12 \t115   \n",
      "13 \t119   \n",
      "14 \t118   \n",
      "15 \t128   \n",
      "16 \t118   \n",
      "17 \t127   \n",
      "18 \t138   \n",
      "19 \t116   \n",
      "20 \t112   \n",
      "21 \t105   \n",
      "22 \t116   \n",
      "23 \t125   \n",
      "24 \t134   \n",
      "25 \t130   \n",
      "26 \t110   \n",
      "27 \t130   \n",
      "28 \t110   \n",
      "29 \t122   \n",
      "30 \t103   \n",
      "31 \t122   \n",
      "32 \t118   \n",
      "33 \t117   \n",
      "34 \t109   \n",
      "35 \t123   \n",
      "36 \t112   \n",
      "37 \t123   \n",
      "38 \t133   \n",
      "39 \t117   \n",
      "40 \t112   \n",
      "41 \t122   \n",
      "42 \t124   \n",
      "43 \t116   \n",
      "44 \t113   \n",
      "45 \t127   \n",
      "46 \t121   \n",
      "47 \t120   \n",
      "48 \t133   \n",
      "49 \t121   \n",
      "50 \t113   \n",
      "There are 200 solutions.\n",
      "There are 40 unique solutions.\n",
      "2 of them are correct.\n",
      "Let's visualize a few:\n",
      "[2, 5, 7, 0, 3, 6, 4, 1]\n",
      "  0|1|2|3|4|5|6|7|\n",
      "0| | | |x| | | | | \n",
      "1| | | | | | | |x| \n",
      "2|x| | | | | | | | \n",
      "3| | | | |x| | | | \n",
      "4| | | | | | |x| | \n",
      "5| |x| | | | | | | \n",
      "6| | | | | |x| | | \n",
      "7| | |x| | | | | | \n",
      "[2, 5, 7, 0, 4, 6, 1, 3]\n",
      "  0|1|2|3|4|5|6|7|\n",
      "0| | | |x| | | | | \n",
      "1| | | | | | |x| | \n",
      "2|x| | | | | | | | \n",
      "3| | | | | | | |x| \n",
      "4| | | | |x| | | | \n",
      "5| |x| | | | | | | \n",
      "6| | | | | |x| | | \n",
      "7| | |x| | | | | | \n"
     ]
    }
   ],
   "source": [
    "pop = toolbox.population(n=200)\n",
    "\n",
    "NGEN = 50\n",
    "CXPB = 0.5\n",
    "MUTPB = 0.2\n",
    "\n",
    "solutions, gen_info = algorithms.eaSimple(pop, toolbox, cxpb=CXPB, \n",
    "                                          mutpb=MUTPB, ngen=NGEN, \n",
    "                                          verbose=True)\n",
    "print(f\"There are {len(solutions)} solutions.\")\n",
    "unique_solutions = [eval(r) for r in set([str(s) for s in solutions])]\n",
    "print(f\"There are {len(unique_solutions)} unique solutions.\")\n",
    "correct_solutions = [s for s in unique_solutions if evaluate(s)==(0,)]\n",
    "print(f\"{len(correct_solutions)} of them are correct.\")\n",
    "print(\"Let's visualize a few:\")\n",
    "for s in correct_solutions[:3]:\n",
    "    visualize(s)"
   ]
  },
  {
   "cell_type": "code",
   "execution_count": 19,
   "id": "frozen-pride",
   "metadata": {},
   "outputs": [
    {
     "name": "stdout",
     "output_type": "stream",
     "text": [
      "There are 200 solutions.\n",
      "There are 32 unique solutions.\n",
      "2 of them are correct.\n",
      "Let's visualize a few:\n",
      "[4, 7, 3, 0, 6, 1, 5, 2]\n",
      "  0|1|2|3|4|5|6|7|\n",
      "0| | | |x| | | | | \n",
      "1| | | | | |x| | | \n",
      "2| | | | | | | |x| \n",
      "3| | |x| | | | | | \n",
      "4|x| | | | | | | | \n",
      "5| | | | | | |x| | \n",
      "6| | | | |x| | | | \n",
      "7| |x| | | | | | | \n",
      "[2, 5, 7, 1, 3, 0, 6, 4]\n",
      "  0|1|2|3|4|5|6|7|\n",
      "0| | | | | |x| | | \n",
      "1| | | |x| | | | | \n",
      "2|x| | | | | | | | \n",
      "3| | | | |x| | | | \n",
      "4| | | | | | | |x| \n",
      "5| |x| | | | | | | \n",
      "6| | | | | | |x| | \n",
      "7| | |x| | | | | | \n"
     ]
    }
   ],
   "source": [
    "# with different algorithm\n",
    "\n",
    "# generate new population\n",
    "pop = toolbox.population(n=200)\n",
    "\n",
    "for g in range(NGEN):\n",
    "    # Select and clone the next generation individuals\n",
    "    offspring = map(toolbox.clone, toolbox.select(pop, len(pop)))\n",
    " \n",
    "    # Apply crossover and mutation on the offspring\n",
    "    offspring = algorithms.varAnd(offspring, toolbox, CXPB, MUTPB)\n",
    " \n",
    "    # Evaluate the individuals with an invalid fitness\n",
    "    invalid_ind = [ind for ind in offspring if not ind.fitness.valid]\n",
    "    fitnesses = toolbox.map(toolbox.evaluate, invalid_ind)\n",
    "    for ind, fit in zip(invalid_ind, fitnesses):\n",
    "        ind.fitness.values = fit\n",
    " \n",
    "    # The population is entirely replaced by the offspring\n",
    "    pop[:] = offspring\n",
    "\n",
    "print(f\"There are {len(pop)} solutions.\")\n",
    "unique_solutions = [eval(r) for r in set([str(s) for s in pop])]\n",
    "print(f\"There are {len(unique_solutions)} unique solutions.\")\n",
    "correct_solutions = [s for s in unique_solutions if evaluate(s)==(0,)]\n",
    "print(f\"{len(correct_solutions)} of them are correct.\")\n",
    "print(\"Let's visualize a few:\")\n",
    "for s in correct_solutions[:3]:\n",
    "    visualize(s)"
   ]
  }
 ],
 "metadata": {
  "kernelspec": {
   "display_name": "Python 3",
   "language": "python",
   "name": "python3"
  },
  "language_info": {
   "codemirror_mode": {
    "name": "ipython",
    "version": 3
   },
   "file_extension": ".py",
   "mimetype": "text/x-python",
   "name": "python",
   "nbconvert_exporter": "python",
   "pygments_lexer": "ipython3",
   "version": "3.8.7"
  }
 },
 "nbformat": 4,
 "nbformat_minor": 5
}

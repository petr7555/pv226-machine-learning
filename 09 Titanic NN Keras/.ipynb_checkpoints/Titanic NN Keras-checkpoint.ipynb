{
 "cells": [
  {
   "cell_type": "markdown",
   "id": "american-vertical",
   "metadata": {},
   "source": [
    "Following [this](https://keras.io/examples/structured_data/structured_data_classification_from_scratch/) tutorial."
   ]
  },
  {
   "cell_type": "code",
   "execution_count": 1,
   "id": "operational-douglas",
   "metadata": {
    "scrolled": false
   },
   "outputs": [
    {
     "data": {
      "text/html": [
       "<div>\n",
       "<style scoped>\n",
       "    .dataframe tbody tr th:only-of-type {\n",
       "        vertical-align: middle;\n",
       "    }\n",
       "\n",
       "    .dataframe tbody tr th {\n",
       "        vertical-align: top;\n",
       "    }\n",
       "\n",
       "    .dataframe thead th {\n",
       "        text-align: right;\n",
       "    }\n",
       "</style>\n",
       "<table border=\"1\" class=\"dataframe\">\n",
       "  <thead>\n",
       "    <tr style=\"text-align: right;\">\n",
       "      <th></th>\n",
       "      <th>Survived</th>\n",
       "      <th>Pclass</th>\n",
       "      <th>Name</th>\n",
       "      <th>Sex</th>\n",
       "      <th>Age</th>\n",
       "      <th>SibSp</th>\n",
       "      <th>Parch</th>\n",
       "      <th>Ticket</th>\n",
       "      <th>Fare</th>\n",
       "      <th>Cabin</th>\n",
       "      <th>Embarked</th>\n",
       "    </tr>\n",
       "    <tr>\n",
       "      <th>PassengerId</th>\n",
       "      <th></th>\n",
       "      <th></th>\n",
       "      <th></th>\n",
       "      <th></th>\n",
       "      <th></th>\n",
       "      <th></th>\n",
       "      <th></th>\n",
       "      <th></th>\n",
       "      <th></th>\n",
       "      <th></th>\n",
       "      <th></th>\n",
       "    </tr>\n",
       "  </thead>\n",
       "  <tbody>\n",
       "    <tr>\n",
       "      <th>1</th>\n",
       "      <td>0</td>\n",
       "      <td>3</td>\n",
       "      <td>Braund, Mr. Owen Harris</td>\n",
       "      <td>male</td>\n",
       "      <td>22.0</td>\n",
       "      <td>1</td>\n",
       "      <td>0</td>\n",
       "      <td>A/5 21171</td>\n",
       "      <td>7.2500</td>\n",
       "      <td>NaN</td>\n",
       "      <td>S</td>\n",
       "    </tr>\n",
       "    <tr>\n",
       "      <th>2</th>\n",
       "      <td>1</td>\n",
       "      <td>1</td>\n",
       "      <td>Cumings, Mrs. John Bradley (Florence Briggs Th...</td>\n",
       "      <td>female</td>\n",
       "      <td>38.0</td>\n",
       "      <td>1</td>\n",
       "      <td>0</td>\n",
       "      <td>PC 17599</td>\n",
       "      <td>71.2833</td>\n",
       "      <td>C85</td>\n",
       "      <td>C</td>\n",
       "    </tr>\n",
       "    <tr>\n",
       "      <th>3</th>\n",
       "      <td>1</td>\n",
       "      <td>3</td>\n",
       "      <td>Heikkinen, Miss. Laina</td>\n",
       "      <td>female</td>\n",
       "      <td>26.0</td>\n",
       "      <td>0</td>\n",
       "      <td>0</td>\n",
       "      <td>STON/O2. 3101282</td>\n",
       "      <td>7.9250</td>\n",
       "      <td>NaN</td>\n",
       "      <td>S</td>\n",
       "    </tr>\n",
       "    <tr>\n",
       "      <th>4</th>\n",
       "      <td>1</td>\n",
       "      <td>1</td>\n",
       "      <td>Futrelle, Mrs. Jacques Heath (Lily May Peel)</td>\n",
       "      <td>female</td>\n",
       "      <td>35.0</td>\n",
       "      <td>1</td>\n",
       "      <td>0</td>\n",
       "      <td>113803</td>\n",
       "      <td>53.1000</td>\n",
       "      <td>C123</td>\n",
       "      <td>S</td>\n",
       "    </tr>\n",
       "    <tr>\n",
       "      <th>5</th>\n",
       "      <td>0</td>\n",
       "      <td>3</td>\n",
       "      <td>Allen, Mr. William Henry</td>\n",
       "      <td>male</td>\n",
       "      <td>35.0</td>\n",
       "      <td>0</td>\n",
       "      <td>0</td>\n",
       "      <td>373450</td>\n",
       "      <td>8.0500</td>\n",
       "      <td>NaN</td>\n",
       "      <td>S</td>\n",
       "    </tr>\n",
       "  </tbody>\n",
       "</table>\n",
       "</div>"
      ],
      "text/plain": [
       "             Survived  Pclass  \\\n",
       "PassengerId                     \n",
       "1                   0       3   \n",
       "2                   1       1   \n",
       "3                   1       3   \n",
       "4                   1       1   \n",
       "5                   0       3   \n",
       "\n",
       "                                                          Name     Sex   Age  \\\n",
       "PassengerId                                                                    \n",
       "1                                      Braund, Mr. Owen Harris    male  22.0   \n",
       "2            Cumings, Mrs. John Bradley (Florence Briggs Th...  female  38.0   \n",
       "3                                       Heikkinen, Miss. Laina  female  26.0   \n",
       "4                 Futrelle, Mrs. Jacques Heath (Lily May Peel)  female  35.0   \n",
       "5                                     Allen, Mr. William Henry    male  35.0   \n",
       "\n",
       "             SibSp  Parch            Ticket     Fare Cabin Embarked  \n",
       "PassengerId                                                          \n",
       "1                1      0         A/5 21171   7.2500   NaN        S  \n",
       "2                1      0          PC 17599  71.2833   C85        C  \n",
       "3                0      0  STON/O2. 3101282   7.9250   NaN        S  \n",
       "4                1      0            113803  53.1000  C123        S  \n",
       "5                0      0            373450   8.0500   NaN        S  "
      ]
     },
     "execution_count": 1,
     "metadata": {},
     "output_type": "execute_result"
    }
   ],
   "source": [
    "import pandas as pd\n",
    "\n",
    "df = pd.read_csv(\"./data/train.csv\").set_index(\"PassengerId\")\n",
    "\n",
    "df.head()"
   ]
  },
  {
   "cell_type": "code",
   "execution_count": 2,
   "id": "conservative-ethiopia",
   "metadata": {
    "scrolled": true
   },
   "outputs": [
    {
     "name": "stdout",
     "output_type": "stream",
     "text": [
      "<class 'pandas.core.frame.DataFrame'>\n",
      "Int64Index: 891 entries, 1 to 891\n",
      "Data columns (total 11 columns):\n",
      " #   Column    Non-Null Count  Dtype  \n",
      "---  ------    --------------  -----  \n",
      " 0   Survived  891 non-null    int64  \n",
      " 1   Pclass    891 non-null    int64  \n",
      " 2   Name      891 non-null    object \n",
      " 3   Sex       891 non-null    object \n",
      " 4   Age       714 non-null    float64\n",
      " 5   SibSp     891 non-null    int64  \n",
      " 6   Parch     891 non-null    int64  \n",
      " 7   Ticket    891 non-null    object \n",
      " 8   Fare      891 non-null    float64\n",
      " 9   Cabin     204 non-null    object \n",
      " 10  Embarked  889 non-null    object \n",
      "dtypes: float64(2), int64(4), object(5)\n",
      "memory usage: 83.5+ KB\n"
     ]
    }
   ],
   "source": [
    "df.info()"
   ]
  },
  {
   "cell_type": "markdown",
   "id": "helpful-interpretation",
   "metadata": {},
   "source": [
    "First, let's fill missing values.\n",
    "Columns missing values are Age, Cabin, Embarked."
   ]
  },
  {
   "cell_type": "code",
   "execution_count": 3,
   "id": "proud-split",
   "metadata": {
    "scrolled": false
   },
   "outputs": [
    {
     "data": {
      "text/plain": [
       "PassengerId\n",
       "1        Mr\n",
       "2       Mrs\n",
       "3      Miss\n",
       "4       Mrs\n",
       "5        Mr\n",
       "       ... \n",
       "887     Rev\n",
       "888    Miss\n",
       "889    Miss\n",
       "890      Mr\n",
       "891      Mr\n",
       "Name: Title, Length: 891, dtype: object"
      ]
     },
     "execution_count": 3,
     "metadata": {},
     "output_type": "execute_result"
    }
   ],
   "source": [
    "# I want to fill age with mean per title\n",
    "# For this, I need a Title column\n",
    "import numpy as np\n",
    "\n",
    "def substrings_in_string(big_string, substrings):\n",
    "    if not isinstance(big_string, str):\n",
    "        return np.nan\n",
    "    for substring in substrings:\n",
    "        if substring in big_string:\n",
    "            return substring\n",
    "    return np.nan\n",
    "\n",
    "# titles extracted with the naked eye\n",
    "title_list=['Mrs', 'Mr', 'Master', 'Miss', 'Major', 'Rev',\n",
    "            'Dr', 'Ms', 'Mlle','Col', 'Capt', 'Mme', 'Countess',\n",
    "            'Don', 'Jonkheer']\n",
    "df['Title']=df['Name'].map(lambda name: substrings_in_string(name, title_list))\n",
    "df['Title']"
   ]
  },
  {
   "cell_type": "code",
   "execution_count": 4,
   "id": "accurate-minute",
   "metadata": {},
   "outputs": [
    {
     "data": {
      "text/plain": [
       "False"
      ]
     },
     "execution_count": 4,
     "metadata": {},
     "output_type": "execute_result"
    }
   ],
   "source": [
    "# show missing titles\n",
    "df[\"Title\"].isna().any()"
   ]
  },
  {
   "cell_type": "markdown",
   "id": "literary-praise",
   "metadata": {},
   "source": [
    "Great! No titles are missing."
   ]
  },
  {
   "cell_type": "code",
   "execution_count": 5,
   "id": "ordered-chapel",
   "metadata": {},
   "outputs": [],
   "source": [
    "X = df.loc[:,df.columns != \"Survived\"]\n",
    "y = df[\"Survived\"]"
   ]
  },
  {
   "cell_type": "code",
   "execution_count": 6,
   "id": "pacific-patio",
   "metadata": {
    "scrolled": true
   },
   "outputs": [
    {
     "data": {
      "text/plain": [
       "PassengerId\n",
       "1      32.409774\n",
       "2      35.642857\n",
       "3      21.777778\n",
       "4      35.642857\n",
       "5      32.409774\n",
       "         ...    \n",
       "887    43.166667\n",
       "888    21.777778\n",
       "889    21.777778\n",
       "890    32.409774\n",
       "891    32.409774\n",
       "Name: Age, Length: 891, dtype: float64"
      ]
     },
     "execution_count": 6,
     "metadata": {},
     "output_type": "execute_result"
    }
   ],
   "source": [
    "# let's fill missing age with mean per title\n",
    "df[\"Age\"] = df.groupby(\"Title\")[\"Age\"].transform(\"mean\")\n",
    "df[\"Age\"]"
   ]
  },
  {
   "cell_type": "code",
   "execution_count": 7,
   "id": "attached-connection",
   "metadata": {},
   "outputs": [
    {
     "data": {
      "text/plain": [
       "PassengerId\n",
       "1      NaN\n",
       "2        C\n",
       "3      NaN\n",
       "4        C\n",
       "5      NaN\n",
       "      ... \n",
       "887    NaN\n",
       "888      B\n",
       "889    NaN\n",
       "890      C\n",
       "891    NaN\n",
       "Name: Deck, Length: 891, dtype: object"
      ]
     },
     "execution_count": 7,
     "metadata": {},
     "output_type": "execute_result"
    }
   ],
   "source": [
    "# let's use Cabin for new column Deck and drop Cabin afterwards\n",
    "\n",
    "# turn Cabin into Deck\n",
    "cabin_list = ['A', 'B', 'C', 'D', 'E', 'F', 'T', 'G', 'Unknown']\n",
    "df['Deck']=df['Cabin'].map(lambda cabin: substrings_in_string(cabin, cabin_list))\n",
    "df['Deck']"
   ]
  },
  {
   "cell_type": "code",
   "execution_count": 8,
   "id": "tracked-produce",
   "metadata": {},
   "outputs": [],
   "source": [
    "# fill missing Deck with \"Unknown\"\n",
    "df['Deck'] = df['Deck'].fillna(\"Unknown\")"
   ]
  },
  {
   "cell_type": "code",
   "execution_count": 9,
   "id": "configured-netherlands",
   "metadata": {
    "scrolled": true
   },
   "outputs": [
    {
     "data": {
      "text/plain": [
       "PassengerId\n",
       "1       NaN\n",
       "2       C85\n",
       "3       NaN\n",
       "4      C123\n",
       "5       NaN\n",
       "       ... \n",
       "887     NaN\n",
       "888     B42\n",
       "889     NaN\n",
       "890    C148\n",
       "891     NaN\n",
       "Name: Cabin, Length: 891, dtype: object"
      ]
     },
     "execution_count": 9,
     "metadata": {},
     "output_type": "execute_result"
    }
   ],
   "source": [
    "# drop Cabin\n",
    "df.pop(\"Cabin\")"
   ]
  },
  {
   "cell_type": "code",
   "execution_count": 10,
   "id": "armed-friendly",
   "metadata": {
    "scrolled": true
   },
   "outputs": [
    {
     "data": {
      "text/plain": [
       "count     889\n",
       "unique      3\n",
       "top         S\n",
       "freq      644\n",
       "Name: Embarked, dtype: object"
      ]
     },
     "execution_count": 10,
     "metadata": {},
     "output_type": "execute_result"
    }
   ],
   "source": [
    "# there are two missing Embarked\n",
    "# let's see the most common one\n",
    "df[\"Embarked\"].describe()"
   ]
  },
  {
   "cell_type": "code",
   "execution_count": 11,
   "id": "challenging-stability",
   "metadata": {},
   "outputs": [],
   "source": [
    "# S is the most common\n",
    "# fill those two missing values with S\n",
    "df[\"Embarked\"] = df[\"Embarked\"].fillna(\"S\")"
   ]
  },
  {
   "cell_type": "code",
   "execution_count": 12,
   "id": "creative-orbit",
   "metadata": {},
   "outputs": [
    {
     "data": {
      "text/plain": [
       "PassengerId\n",
       "1                                Braund, Mr. Owen Harris\n",
       "2      Cumings, Mrs. John Bradley (Florence Briggs Th...\n",
       "3                                 Heikkinen, Miss. Laina\n",
       "4           Futrelle, Mrs. Jacques Heath (Lily May Peel)\n",
       "5                               Allen, Mr. William Henry\n",
       "                             ...                        \n",
       "887                                Montvila, Rev. Juozas\n",
       "888                         Graham, Miss. Margaret Edith\n",
       "889             Johnston, Miss. Catherine Helen \"Carrie\"\n",
       "890                                Behr, Mr. Karl Howell\n",
       "891                                  Dooley, Mr. Patrick\n",
       "Name: Name, Length: 891, dtype: object"
      ]
     },
     "execution_count": 12,
     "metadata": {},
     "output_type": "execute_result"
    }
   ],
   "source": [
    "# Name is not important since we have title column already, drop it\n",
    "df.pop(\"Name\")"
   ]
  },
  {
   "cell_type": "code",
   "execution_count": 13,
   "id": "coordinate-catering",
   "metadata": {},
   "outputs": [
    {
     "data": {
      "text/plain": [
       "PassengerId\n",
       "1             A/5 21171\n",
       "2              PC 17599\n",
       "3      STON/O2. 3101282\n",
       "4                113803\n",
       "5                373450\n",
       "             ...       \n",
       "887              211536\n",
       "888              112053\n",
       "889          W./C. 6607\n",
       "890              111369\n",
       "891              370376\n",
       "Name: Ticket, Length: 891, dtype: object"
      ]
     },
     "execution_count": 13,
     "metadata": {},
     "output_type": "execute_result"
    }
   ],
   "source": [
    "# I do not know how to handle Ticket, drop it\n",
    "df.pop(\"Ticket\")"
   ]
  },
  {
   "cell_type": "code",
   "execution_count": 14,
   "id": "experimental-refrigerator",
   "metadata": {
    "scrolled": true
   },
   "outputs": [
    {
     "name": "stdout",
     "output_type": "stream",
     "text": [
      "<class 'pandas.core.frame.DataFrame'>\n",
      "Int64Index: 891 entries, 1 to 891\n",
      "Data columns (total 10 columns):\n",
      " #   Column    Non-Null Count  Dtype  \n",
      "---  ------    --------------  -----  \n",
      " 0   Survived  891 non-null    int64  \n",
      " 1   Pclass    891 non-null    int64  \n",
      " 2   Sex       891 non-null    object \n",
      " 3   Age       891 non-null    float64\n",
      " 4   SibSp     891 non-null    int64  \n",
      " 5   Parch     891 non-null    int64  \n",
      " 6   Fare      891 non-null    float64\n",
      " 7   Embarked  891 non-null    object \n",
      " 8   Title     891 non-null    object \n",
      " 9   Deck      891 non-null    object \n",
      "dtypes: float64(2), int64(4), object(4)\n",
      "memory usage: 76.6+ KB\n"
     ]
    }
   ],
   "source": [
    "# let's verify we have all values now\n",
    "df.info()"
   ]
  },
  {
   "cell_type": "markdown",
   "id": "demanding-blind",
   "metadata": {},
   "source": [
    "No more missing values!"
   ]
  },
  {
   "cell_type": "code",
   "execution_count": 15,
   "id": "capital-advice",
   "metadata": {},
   "outputs": [
    {
     "name": "stdout",
     "output_type": "stream",
     "text": [
      "Using 713 samples for training and 178 for validation.\n"
     ]
    }
   ],
   "source": [
    "import tensorflow as tf\n",
    "from tensorflow import keras\n",
    "from tensorflow.keras import layers\n",
    "\n",
    "# Let's split the data into a training and validation set:\n",
    "\n",
    "val_df = df.sample(frac=0.2, random_state=42)\n",
    "train_df = df.drop(val_df.index)\n",
    "\n",
    "print(\"Using %d samples for training and %d for validation.\"%(len(train_df), len(val_df)))"
   ]
  },
  {
   "cell_type": "code",
   "execution_count": 16,
   "id": "spatial-gamma",
   "metadata": {},
   "outputs": [],
   "source": [
    "# Let's generate tf.data.Dataset objects for each dataframe:\n",
    "def dataframe_to_dataset(df):\n",
    "    df = df.copy()\n",
    "    labels = df.pop(\"Survived\")\n",
    "    ds = tf.data.Dataset.from_tensor_slices((dict(df), labels))\n",
    "    ds = ds.shuffle(buffer_size=len(df))\n",
    "    return ds\n",
    "\n",
    "train_ds = dataframe_to_dataset(train_df)\n",
    "val_ds = dataframe_to_dataset(val_df)"
   ]
  },
  {
   "cell_type": "code",
   "execution_count": 17,
   "id": "comfortable-marshall",
   "metadata": {},
   "outputs": [
    {
     "name": "stdout",
     "output_type": "stream",
     "text": [
      "Input: {'Pclass': <tf.Tensor: shape=(), dtype=int64, numpy=1>, 'Sex': <tf.Tensor: shape=(), dtype=string, numpy=b'female'>, 'Age': <tf.Tensor: shape=(), dtype=float64, numpy=35.642857142857146>, 'SibSp': <tf.Tensor: shape=(), dtype=int64, numpy=0>, 'Parch': <tf.Tensor: shape=(), dtype=int64, numpy=0>, 'Fare': <tf.Tensor: shape=(), dtype=float64, numpy=49.5042>, 'Embarked': <tf.Tensor: shape=(), dtype=string, numpy=b'C'>, 'Title': <tf.Tensor: shape=(), dtype=string, numpy=b'Mrs'>, 'Deck': <tf.Tensor: shape=(), dtype=string, numpy=b'C'>}\n",
      "Target: tf.Tensor(1, shape=(), dtype=int64)\n"
     ]
    }
   ],
   "source": [
    "# Each Dataset yields a tuple (input, target) where input is a dictionary of features and target is the value 0 or 1:\n",
    "\n",
    "for x, y in train_ds.take(1):\n",
    "    print(\"Input:\", x)\n",
    "    print(\"Target:\", y)"
   ]
  },
  {
   "cell_type": "code",
   "execution_count": 18,
   "id": "auburn-trauma",
   "metadata": {},
   "outputs": [],
   "source": [
    "# Let's batch the datasets:\n",
    "\n",
    "train_ds = train_ds.batch(32)\n",
    "val_ds = val_ds.batch(32)"
   ]
  },
  {
   "cell_type": "markdown",
   "id": "amended-manual",
   "metadata": {},
   "source": [
    "Let's identify column types (categorical/numerical)."
   ]
  },
  {
   "cell_type": "code",
   "execution_count": 19,
   "id": "abstract-punishment",
   "metadata": {},
   "outputs": [
    {
     "data": {
      "text/html": [
       "<div>\n",
       "<style scoped>\n",
       "    .dataframe tbody tr th:only-of-type {\n",
       "        vertical-align: middle;\n",
       "    }\n",
       "\n",
       "    .dataframe tbody tr th {\n",
       "        vertical-align: top;\n",
       "    }\n",
       "\n",
       "    .dataframe thead th {\n",
       "        text-align: right;\n",
       "    }\n",
       "</style>\n",
       "<table border=\"1\" class=\"dataframe\">\n",
       "  <thead>\n",
       "    <tr style=\"text-align: right;\">\n",
       "      <th></th>\n",
       "      <th>Survived</th>\n",
       "      <th>Pclass</th>\n",
       "      <th>Sex</th>\n",
       "      <th>Age</th>\n",
       "      <th>SibSp</th>\n",
       "      <th>Parch</th>\n",
       "      <th>Fare</th>\n",
       "      <th>Embarked</th>\n",
       "      <th>Title</th>\n",
       "      <th>Deck</th>\n",
       "    </tr>\n",
       "    <tr>\n",
       "      <th>PassengerId</th>\n",
       "      <th></th>\n",
       "      <th></th>\n",
       "      <th></th>\n",
       "      <th></th>\n",
       "      <th></th>\n",
       "      <th></th>\n",
       "      <th></th>\n",
       "      <th></th>\n",
       "      <th></th>\n",
       "      <th></th>\n",
       "    </tr>\n",
       "  </thead>\n",
       "  <tbody>\n",
       "    <tr>\n",
       "      <th>1</th>\n",
       "      <td>0</td>\n",
       "      <td>3</td>\n",
       "      <td>male</td>\n",
       "      <td>32.409774</td>\n",
       "      <td>1</td>\n",
       "      <td>0</td>\n",
       "      <td>7.2500</td>\n",
       "      <td>S</td>\n",
       "      <td>Mr</td>\n",
       "      <td>Unknown</td>\n",
       "    </tr>\n",
       "    <tr>\n",
       "      <th>2</th>\n",
       "      <td>1</td>\n",
       "      <td>1</td>\n",
       "      <td>female</td>\n",
       "      <td>35.642857</td>\n",
       "      <td>1</td>\n",
       "      <td>0</td>\n",
       "      <td>71.2833</td>\n",
       "      <td>C</td>\n",
       "      <td>Mrs</td>\n",
       "      <td>C</td>\n",
       "    </tr>\n",
       "    <tr>\n",
       "      <th>3</th>\n",
       "      <td>1</td>\n",
       "      <td>3</td>\n",
       "      <td>female</td>\n",
       "      <td>21.777778</td>\n",
       "      <td>0</td>\n",
       "      <td>0</td>\n",
       "      <td>7.9250</td>\n",
       "      <td>S</td>\n",
       "      <td>Miss</td>\n",
       "      <td>Unknown</td>\n",
       "    </tr>\n",
       "    <tr>\n",
       "      <th>4</th>\n",
       "      <td>1</td>\n",
       "      <td>1</td>\n",
       "      <td>female</td>\n",
       "      <td>35.642857</td>\n",
       "      <td>1</td>\n",
       "      <td>0</td>\n",
       "      <td>53.1000</td>\n",
       "      <td>S</td>\n",
       "      <td>Mrs</td>\n",
       "      <td>C</td>\n",
       "    </tr>\n",
       "    <tr>\n",
       "      <th>5</th>\n",
       "      <td>0</td>\n",
       "      <td>3</td>\n",
       "      <td>male</td>\n",
       "      <td>32.409774</td>\n",
       "      <td>0</td>\n",
       "      <td>0</td>\n",
       "      <td>8.0500</td>\n",
       "      <td>S</td>\n",
       "      <td>Mr</td>\n",
       "      <td>Unknown</td>\n",
       "    </tr>\n",
       "  </tbody>\n",
       "</table>\n",
       "</div>"
      ],
      "text/plain": [
       "             Survived  Pclass     Sex        Age  SibSp  Parch     Fare  \\\n",
       "PassengerId                                                               \n",
       "1                   0       3    male  32.409774      1      0   7.2500   \n",
       "2                   1       1  female  35.642857      1      0  71.2833   \n",
       "3                   1       3  female  21.777778      0      0   7.9250   \n",
       "4                   1       1  female  35.642857      1      0  53.1000   \n",
       "5                   0       3    male  32.409774      0      0   8.0500   \n",
       "\n",
       "            Embarked Title     Deck  \n",
       "PassengerId                          \n",
       "1                  S    Mr  Unknown  \n",
       "2                  C   Mrs        C  \n",
       "3                  S  Miss  Unknown  \n",
       "4                  S   Mrs        C  \n",
       "5                  S    Mr  Unknown  "
      ]
     },
     "execution_count": 19,
     "metadata": {},
     "output_type": "execute_result"
    }
   ],
   "source": [
    "df.head()"
   ]
  },
  {
   "cell_type": "markdown",
   "id": "lonely-destiny",
   "metadata": {},
   "source": [
    "Columns:\n",
    "- Survived - target; 0 or 1\n",
    "- Pclass - categorical (encoded as int); 1,2 or 3\n",
    "- Sex - categorical (encoded as string); \"male\" or \"female\"\n",
    "- Age - numerical\n",
    "- SibSp - numerical\n",
    "- Parch - numerical\n",
    "- Fare - numerical\n",
    "- Embarked - categorical (encoded as string)\n",
    "- Title - categorical (encoded as string)\n",
    "- Deck - categorical (encoded as string)"
   ]
  },
  {
   "cell_type": "markdown",
   "id": "statutory-hampton",
   "metadata": {},
   "source": [
    "Handle in the following way:\n",
    "- categorical (encoded as int):\n",
    "    - Encode features using one-hot encoding using the CategoryEncoding() layer.\n",
    "- categorical (encoded as string):\n",
    "    - First create an index of all possible features using the StringLookup() layer.\n",
    "    - Then one-hot encode the output indices using a CategoryEncoding() layer.\n",
    "- continuous numerical\n",
    "    - For each of these features, we will use a Normalization() layer to make sure the mean of each feature is 0 and its standard deviation is 1."
   ]
  },
  {
   "cell_type": "code",
   "execution_count": 20,
   "id": "tired-seeking",
   "metadata": {},
   "outputs": [],
   "source": [
    "from tensorflow.keras.layers.experimental.preprocessing import Normalization, CategoryEncoding, StringLookup\n",
    "\n",
    "def encode_numerical_feature(feature, name, dataset):\n",
    "    \"\"\"\n",
    "    Apply featurewise normalization to numerical features.\n",
    "    \"\"\"\n",
    "    # Create a Normalization layer for our feature\n",
    "    normalizer = Normalization()\n",
    "\n",
    "    # Prepare a Dataset that only yields our feature\n",
    "    feature_ds = dataset.map(lambda x, y: x[name])\n",
    "    feature_ds = feature_ds.map(lambda x: tf.expand_dims(x, -1))\n",
    "\n",
    "    # Learn the statistics of the data\n",
    "    normalizer.adapt(feature_ds)\n",
    "\n",
    "    # Normalize the input feature\n",
    "    encoded_feature = normalizer(feature)\n",
    "    return encoded_feature\n",
    "\n",
    "\n",
    "def encode_string_categorical_feature(feature, name, dataset):\n",
    "    \"\"\"\n",
    "    Turn string inputs into integer indices, then one-hot encode these integer indices.\n",
    "    \"\"\"\n",
    "    # Create a StringLookup layer which will turn strings into integer indices\n",
    "    index = StringLookup()\n",
    "\n",
    "    # Prepare a Dataset that only yields our feature\n",
    "    feature_ds = dataset.map(lambda x, y: x[name])\n",
    "    feature_ds = feature_ds.map(lambda x: tf.expand_dims(x, -1))\n",
    "\n",
    "    # Learn the set of possible string values and assign them a fixed integer index\n",
    "    index.adapt(feature_ds)\n",
    "\n",
    "    # Turn the string input into integer indices\n",
    "    encoded_feature = index(feature)\n",
    "\n",
    "    # Create a CategoryEncoding for our integer indices\n",
    "    encoder = CategoryEncoding(output_mode=\"binary\")\n",
    "\n",
    "    # Prepare a dataset of indices\n",
    "    feature_ds = feature_ds.map(index)\n",
    "\n",
    "    # Learn the space of possible indices\n",
    "    encoder.adapt(feature_ds)\n",
    "\n",
    "    # Apply one-hot encoding to our indices\n",
    "    encoded_feature = encoder(encoded_feature)\n",
    "    return encoded_feature\n",
    "\n",
    "\n",
    "def encode_integer_categorical_feature(feature, name, dataset):\n",
    "    \"\"\"\n",
    "    One-hot encode integer categorical features.\n",
    "    \"\"\"\n",
    "    # Create a CategoryEncoding for our integer indices\n",
    "    encoder = CategoryEncoding(output_mode=\"binary\")\n",
    "\n",
    "    # Prepare a Dataset that only yields our feature\n",
    "    feature_ds = dataset.map(lambda x, y: x[name])\n",
    "    feature_ds = feature_ds.map(lambda x: tf.expand_dims(x, -1))\n",
    "\n",
    "    # Learn the space of possible indices\n",
    "    encoder.adapt(feature_ds)\n",
    "\n",
    "    # Apply one-hot encoding to our indices\n",
    "    encoded_feature = encoder(feature)\n",
    "    return encoded_feature"
   ]
  },
  {
   "cell_type": "markdown",
   "id": "level-preserve",
   "metadata": {},
   "source": [
    "## Build a model"
   ]
  },
  {
   "cell_type": "markdown",
   "id": "blank-miracle",
   "metadata": {},
   "source": [
    "Those were the columns:\n",
    "- Survived - target; 0 or 1\n",
    "- Pclass - categorical (encoded as int); 1,2 or 3\n",
    "- Sex - categorical (encoded as string); \"male\" or \"female\"\n",
    "- Age - numerical\n",
    "- SibSp - numerical\n",
    "- Parch - numerical\n",
    "- Fare - numerical\n",
    "- Embarked - categorical (encoded as string)\n",
    "- Title - categorical (encoded as string)\n",
    "- Deck - categorical (encoded as string)"
   ]
  },
  {
   "cell_type": "code",
   "execution_count": 21,
   "id": "metallic-checkout",
   "metadata": {},
   "outputs": [],
   "source": [
    "# Categorical features encoded as integers\n",
    "pclass = keras.Input(shape=(1,), name=\"Pclass\", dtype=\"int64\")\n",
    "\n",
    "# Categorical feature encoded as string\n",
    "sex = keras.Input(shape=(1,), name=\"Sex\", dtype=\"string\")\n",
    "embarked = keras.Input(shape=(1,), name=\"Embarked\", dtype=\"string\")\n",
    "title = keras.Input(shape=(1,), name=\"Title\", dtype=\"string\")\n",
    "deck = keras.Input(shape=(1,), name=\"Deck\", dtype=\"string\")\n",
    "\n",
    "# Numerical features\n",
    "age = keras.Input(shape=(1,), name=\"Age\")\n",
    "sibsp = keras.Input(shape=(1,), name=\"SibSp\")\n",
    "parch = keras.Input(shape=(1,), name=\"Parch\")\n",
    "fare = keras.Input(shape=(1,), name=\"Fare\")\n",
    "\n",
    "all_inputs = [\n",
    "    pclass,\n",
    "    sex,\n",
    "    embarked,\n",
    "    title,\n",
    "    deck,\n",
    "    age,\n",
    "    sibsp,\n",
    "    parch,\n",
    "    fare,\n",
    "]\n",
    "\n",
    "# Integer categorical features\n",
    "pclass_encoded = encode_integer_categorical_feature(pclass, \"Pclass\", train_ds)\n",
    "\n",
    "# String categorical features\n",
    "sex_encoded = encode_string_categorical_feature(sex, \"Sex\", train_ds)\n",
    "embarked_encoded = encode_string_categorical_feature(embarked, \"Embarked\", train_ds)\n",
    "title_encoded = encode_string_categorical_feature(title, \"Title\", train_ds)\n",
    "deck_encoded = encode_string_categorical_feature(deck, \"Deck\", train_ds)\n",
    "\n",
    "# Numerical features\n",
    "age_encoded = encode_numerical_feature(age, \"Age\", train_ds)\n",
    "sibsp_encoded = encode_numerical_feature(sibsp, \"SibSp\", train_ds)\n",
    "parch_encoded = encode_numerical_feature(parch, \"Parch\", train_ds)\n",
    "fare_encoded = encode_numerical_feature(fare, \"Fare\", train_ds)\n",
    "\n",
    "all_features = layers.concatenate(\n",
    "    [\n",
    "        pclass_encoded,\n",
    "        sex_encoded,\n",
    "        embarked_encoded,\n",
    "        title_encoded,\n",
    "        deck_encoded,\n",
    "        age_encoded,\n",
    "        sibsp_encoded,\n",
    "        parch_encoded,\n",
    "        fare_encoded,\n",
    "    ]\n",
    ")"
   ]
  },
  {
   "cell_type": "markdown",
   "id": "handed-millennium",
   "metadata": {},
   "source": [
    "Let's create some visualizations using TensorBoard.\n",
    "https://www.tensorflow.org/tensorboard/get_started"
   ]
  },
  {
   "cell_type": "code",
   "execution_count": 22,
   "id": "considerable-revolution",
   "metadata": {
    "scrolled": false
   },
   "outputs": [],
   "source": [
    "import datetime\n",
    "\n",
    "# Load the TensorBoard notebook extension\n",
    "%load_ext tensorboard\n",
    "\n",
    "log_dir = \"logs/fit/\" + datetime.datetime.now().strftime(\"%Y%m%d-%H%M%S\")"
   ]
  },
  {
   "cell_type": "code",
   "execution_count": 23,
   "id": "dangerous-banner",
   "metadata": {},
   "outputs": [],
   "source": [
    "# Some SSL magic to be able to fetch fashion_mnist\n",
    "# https://github.com/tensorflow/tensorflow/issues/33285\n",
    "import requests\n",
    "requests.packages.urllib3.disable_warnings()\n",
    "import ssl\n",
    "\n",
    "try:\n",
    "    _create_unverified_https_context = ssl._create_unverified_context\n",
    "except AttributeError:\n",
    "    # Legacy Python that doesn't verify HTTPS certificates by default\n",
    "    pass\n",
    "else:\n",
    "    # Handle target environment that doesn't support HTTPS verification\n",
    "    ssl._create_default_https_context = _create_unverified_https_context"
   ]
  },
  {
   "cell_type": "code",
   "execution_count": 24,
   "id": "naval-illustration",
   "metadata": {},
   "outputs": [
    {
     "name": "stdout",
     "output_type": "stream",
     "text": [
      "313/313 - 0s - loss: 0.3691 - accuracy: 0.8635\n",
      "Test acc: 86.3500 %\n"
     ]
    }
   ],
   "source": [
    "# Clear any logs from previous runs\n",
    "%rm -rf ./logs/\n",
    "\n",
    "# histogram_freq=1 works when StringLookup() is not used\n",
    "# it enables histogram computation every epoch\n",
    "tensorboard_callback_fashion_mnist = tf.keras.callbacks.TensorBoard(log_dir=log_dir, histogram_freq=1)\n",
    "\n",
    "(x_train, y_train), (x_test, y_test) = [(x.reshape((len(x), 784)).astype(float)/255, keras.utils.to_categorical(y)) for x, y in keras.datasets.fashion_mnist.load_data()]\n",
    "\n",
    "fashion_mnist_model = keras.models.Sequential([\n",
    "    keras.layers.Dense(256, 'relu', input_shape=(784,)), \n",
    "    keras.layers.Dropout(0.15), \n",
    "    keras.layers.Dense(64, 'relu'), \n",
    "    keras.layers.Dense(10, 'softmax')\n",
    "])\n",
    "\n",
    "fashion_mnist_model.compile(optimizer='adam', loss='categorical_crossentropy', metrics=['accuracy'])\n",
    "fashion_mnist_model.fit(x_train, y_train, epochs=6, batch_size=124, verbose=0, validation_split=0.1,\n",
    "                       callbacks=[tensorboard_callback_fashion_mnist])\n",
    "\n",
    "print(f'Test acc: {fashion_mnist_model.evaluate(x_test, y_test, verbose=2)[1]*100:2.4f} %')"
   ]
  },
  {
   "cell_type": "code",
   "execution_count": 25,
   "id": "limiting-watts",
   "metadata": {},
   "outputs": [
    {
     "data": {
      "text/plain": [
       "Reusing TensorBoard on port 6006 (pid 19744), started 1 day, 4:48:36 ago. (Use '!kill 19744' to kill it.)"
      ]
     },
     "metadata": {},
     "output_type": "display_data"
    },
    {
     "data": {
      "text/html": [
       "\n",
       "      <iframe id=\"tensorboard-frame-7bb5874918c5f86\" width=\"100%\" height=\"800\" frameborder=\"0\">\n",
       "      </iframe>\n",
       "      <script>\n",
       "        (function() {\n",
       "          const frame = document.getElementById(\"tensorboard-frame-7bb5874918c5f86\");\n",
       "          const url = new URL(\"/\", window.location);\n",
       "          const port = 6006;\n",
       "          if (port) {\n",
       "            url.port = port;\n",
       "          }\n",
       "          frame.src = url;\n",
       "        })();\n",
       "      </script>\n",
       "    "
      ],
      "text/plain": [
       "<IPython.core.display.HTML object>"
      ]
     },
     "metadata": {},
     "output_type": "display_data"
    }
   ],
   "source": [
    "# run visualizations\n",
    "%tensorboard --logdir logs/fit"
   ]
  },
  {
   "cell_type": "code",
   "execution_count": 28,
   "id": "protective-assumption",
   "metadata": {},
   "outputs": [],
   "source": [
    "x = layers.Dense(64, activation=\"relu\")(all_features)\n",
    "x = layers.Dropout(0.15)(x)\n",
    "x = layers.Dense(32, activation=\"relu\")(x)\n",
    "output = layers.Dense(1, activation=\"sigmoid\")(x)\n",
    "model = keras.Model(all_inputs, output)\n",
    "model.compile(\"adam\", \"binary_crossentropy\", metrics=[\"accuracy\"])"
   ]
  },
  {
   "cell_type": "code",
   "execution_count": 29,
   "id": "elder-croatia",
   "metadata": {
    "scrolled": false
   },
   "outputs": [
    {
     "data": {
      "image/png": "[encoded data removed]",
      "text/plain": [
       "<IPython.core.display.Image object>"
      ]
     },
     "execution_count": 29,
     "metadata": {},
     "output_type": "execute_result"
    }
   ],
   "source": [
    "# Let's visualize our connectivity graph:\n",
    "# `rankdir='LR'` is to make the graph horizontal.\n",
    "keras.utils.plot_model(model, show_shapes=True, rankdir=\"LR\")"
   ]
  },
  {
   "cell_type": "code",
   "execution_count": 30,
   "id": "formal-contest",
   "metadata": {},
   "outputs": [],
   "source": [
    "# histogram_freq=1 should be turned to 1, but then it fails with\n",
    "# \"'TrackableWeightHandler' object has no attribute 'name'\"\n",
    "# This is because experimental StringLookup() in data preprocessing.\n",
    "tensorboard_callback = tf.keras.callbacks.TensorBoard(log_dir=log_dir, histogram_freq=0)"
   ]
  },
  {
   "cell_type": "code",
   "execution_count": 31,
   "id": "neural-princess",
   "metadata": {},
   "outputs": [
    {
     "name": "stdout",
     "output_type": "stream",
     "text": [
      "Epoch 1/50\n",
      "23/23 [==============================] - 1s 17ms/step - loss: 0.6527 - accuracy: 0.6814 - val_loss: 0.5926 - val_accuracy: 0.6798\n",
      "Epoch 2/50\n",
      "23/23 [==============================] - 0s 3ms/step - loss: 0.5590 - accuracy: 0.7298 - val_loss: 0.5128 - val_accuracy: 0.7360\n",
      "Epoch 3/50\n",
      "23/23 [==============================] - 0s 3ms/step - loss: 0.4820 - accuracy: 0.8026 - val_loss: 0.4598 - val_accuracy: 0.7978\n",
      "Epoch 4/50\n",
      "23/23 [==============================] - 0s 2ms/step - loss: 0.4628 - accuracy: 0.8155 - val_loss: 0.4400 - val_accuracy: 0.7921\n",
      "Epoch 5/50\n",
      "23/23 [==============================] - 0s 2ms/step - loss: 0.4736 - accuracy: 0.8112 - val_loss: 0.4311 - val_accuracy: 0.7921\n",
      "Epoch 6/50\n",
      "23/23 [==============================] - 0s 2ms/step - loss: 0.4289 - accuracy: 0.8219 - val_loss: 0.4273 - val_accuracy: 0.8034\n",
      "Epoch 7/50\n",
      "23/23 [==============================] - 0s 2ms/step - loss: 0.4242 - accuracy: 0.8292 - val_loss: 0.4219 - val_accuracy: 0.8034\n",
      "Epoch 8/50\n",
      "23/23 [==============================] - 0s 3ms/step - loss: 0.3854 - accuracy: 0.8455 - val_loss: 0.4253 - val_accuracy: 0.7978\n",
      "Epoch 9/50\n",
      "23/23 [==============================] - 0s 3ms/step - loss: 0.3878 - accuracy: 0.8467 - val_loss: 0.4263 - val_accuracy: 0.8034\n",
      "Epoch 10/50\n",
      "23/23 [==============================] - 0s 3ms/step - loss: 0.3618 - accuracy: 0.8555 - val_loss: 0.4277 - val_accuracy: 0.8034\n",
      "Epoch 11/50\n",
      "23/23 [==============================] - 0s 3ms/step - loss: 0.3769 - accuracy: 0.8557 - val_loss: 0.4249 - val_accuracy: 0.8090\n",
      "Epoch 12/50\n",
      "23/23 [==============================] - 0s 3ms/step - loss: 0.3648 - accuracy: 0.8356 - val_loss: 0.4255 - val_accuracy: 0.8090\n",
      "Epoch 13/50\n",
      "23/23 [==============================] - 0s 2ms/step - loss: 0.3736 - accuracy: 0.8474 - val_loss: 0.4256 - val_accuracy: 0.8146\n",
      "Epoch 14/50\n",
      "23/23 [==============================] - 0s 2ms/step - loss: 0.3497 - accuracy: 0.8608 - val_loss: 0.4277 - val_accuracy: 0.8090\n",
      "Epoch 15/50\n",
      "23/23 [==============================] - 0s 2ms/step - loss: 0.3786 - accuracy: 0.8490 - val_loss: 0.4335 - val_accuracy: 0.8146\n",
      "Epoch 16/50\n",
      "23/23 [==============================] - 0s 3ms/step - loss: 0.3712 - accuracy: 0.8571 - val_loss: 0.4376 - val_accuracy: 0.8146\n",
      "Epoch 17/50\n",
      "23/23 [==============================] - 0s 4ms/step - loss: 0.3500 - accuracy: 0.8633 - val_loss: 0.4353 - val_accuracy: 0.8090\n",
      "Epoch 18/50\n",
      "23/23 [==============================] - 0s 3ms/step - loss: 0.3798 - accuracy: 0.8305 - val_loss: 0.4244 - val_accuracy: 0.8146\n",
      "Epoch 19/50\n",
      "23/23 [==============================] - 0s 3ms/step - loss: 0.3850 - accuracy: 0.8473 - val_loss: 0.4289 - val_accuracy: 0.8090\n",
      "Epoch 20/50\n",
      "23/23 [==============================] - 0s 2ms/step - loss: 0.3541 - accuracy: 0.8668 - val_loss: 0.4365 - val_accuracy: 0.8258\n",
      "Epoch 21/50\n",
      "23/23 [==============================] - 0s 2ms/step - loss: 0.3763 - accuracy: 0.8559 - val_loss: 0.4365 - val_accuracy: 0.8202\n",
      "Epoch 22/50\n",
      "23/23 [==============================] - 0s 2ms/step - loss: 0.3706 - accuracy: 0.8382 - val_loss: 0.4406 - val_accuracy: 0.8202\n",
      "Epoch 23/50\n",
      "23/23 [==============================] - 0s 3ms/step - loss: 0.3516 - accuracy: 0.8590 - val_loss: 0.4402 - val_accuracy: 0.8258\n",
      "Epoch 24/50\n",
      "23/23 [==============================] - 0s 3ms/step - loss: 0.3838 - accuracy: 0.8300 - val_loss: 0.4329 - val_accuracy: 0.8258\n",
      "Epoch 25/50\n",
      "23/23 [==============================] - 0s 3ms/step - loss: 0.3750 - accuracy: 0.8455 - val_loss: 0.4429 - val_accuracy: 0.8202\n",
      "Epoch 26/50\n",
      "23/23 [==============================] - 0s 3ms/step - loss: 0.3474 - accuracy: 0.8647 - val_loss: 0.4421 - val_accuracy: 0.8202\n",
      "Epoch 27/50\n",
      "23/23 [==============================] - 0s 2ms/step - loss: 0.3697 - accuracy: 0.8369 - val_loss: 0.4435 - val_accuracy: 0.8258\n",
      "Epoch 28/50\n",
      "23/23 [==============================] - 0s 2ms/step - loss: 0.3334 - accuracy: 0.8657 - val_loss: 0.4510 - val_accuracy: 0.8202\n",
      "Epoch 29/50\n",
      "23/23 [==============================] - 0s 3ms/step - loss: 0.3625 - accuracy: 0.8425 - val_loss: 0.4516 - val_accuracy: 0.8202\n",
      "Epoch 30/50\n",
      "23/23 [==============================] - 0s 3ms/step - loss: 0.3012 - accuracy: 0.8893 - val_loss: 0.4605 - val_accuracy: 0.8202\n",
      "Epoch 31/50\n",
      "23/23 [==============================] - 0s 3ms/step - loss: 0.3650 - accuracy: 0.8397 - val_loss: 0.4391 - val_accuracy: 0.8202\n",
      "Epoch 32/50\n",
      "23/23 [==============================] - 0s 3ms/step - loss: 0.3602 - accuracy: 0.8522 - val_loss: 0.4457 - val_accuracy: 0.8202\n",
      "Epoch 33/50\n",
      "23/23 [==============================] - 0s 3ms/step - loss: 0.3459 - accuracy: 0.8579 - val_loss: 0.4408 - val_accuracy: 0.8202\n",
      "Epoch 34/50\n",
      "23/23 [==============================] - 0s 2ms/step - loss: 0.3622 - accuracy: 0.8573 - val_loss: 0.4476 - val_accuracy: 0.8202\n",
      "Epoch 35/50\n",
      "23/23 [==============================] - 0s 2ms/step - loss: 0.3510 - accuracy: 0.8477 - val_loss: 0.4444 - val_accuracy: 0.8202\n",
      "Epoch 36/50\n",
      "23/23 [==============================] - 0s 3ms/step - loss: 0.3411 - accuracy: 0.8569 - val_loss: 0.4530 - val_accuracy: 0.8146\n",
      "Epoch 37/50\n",
      "23/23 [==============================] - 0s 3ms/step - loss: 0.3157 - accuracy: 0.8630 - val_loss: 0.4567 - val_accuracy: 0.8258\n",
      "Epoch 38/50\n",
      "23/23 [==============================] - 0s 2ms/step - loss: 0.3305 - accuracy: 0.8696 - val_loss: 0.4530 - val_accuracy: 0.8258\n",
      "Epoch 39/50\n",
      "23/23 [==============================] - 0s 2ms/step - loss: 0.3348 - accuracy: 0.8634 - val_loss: 0.4565 - val_accuracy: 0.8090\n",
      "Epoch 40/50\n",
      "23/23 [==============================] - 0s 2ms/step - loss: 0.3120 - accuracy: 0.8806 - val_loss: 0.4536 - val_accuracy: 0.8202\n",
      "Epoch 41/50\n",
      "23/23 [==============================] - 0s 2ms/step - loss: 0.3634 - accuracy: 0.8470 - val_loss: 0.4549 - val_accuracy: 0.8258\n",
      "Epoch 42/50\n",
      "23/23 [==============================] - 0s 2ms/step - loss: 0.3272 - accuracy: 0.8573 - val_loss: 0.4550 - val_accuracy: 0.8258\n",
      "Epoch 43/50\n",
      "23/23 [==============================] - 0s 3ms/step - loss: 0.3304 - accuracy: 0.8596 - val_loss: 0.4618 - val_accuracy: 0.8202\n",
      "Epoch 44/50\n",
      "23/23 [==============================] - 0s 2ms/step - loss: 0.3487 - accuracy: 0.8682 - val_loss: 0.4551 - val_accuracy: 0.8202\n",
      "Epoch 45/50\n",
      "23/23 [==============================] - 0s 2ms/step - loss: 0.3348 - accuracy: 0.8606 - val_loss: 0.4645 - val_accuracy: 0.8258\n",
      "Epoch 46/50\n",
      "23/23 [==============================] - 0s 2ms/step - loss: 0.3544 - accuracy: 0.8471 - val_loss: 0.4589 - val_accuracy: 0.8202\n",
      "Epoch 47/50\n",
      "23/23 [==============================] - 0s 2ms/step - loss: 0.3677 - accuracy: 0.8509 - val_loss: 0.4634 - val_accuracy: 0.8202\n",
      "Epoch 48/50\n",
      "23/23 [==============================] - 0s 2ms/step - loss: 0.3288 - accuracy: 0.8709 - val_loss: 0.4643 - val_accuracy: 0.8202\n",
      "Epoch 49/50\n",
      "23/23 [==============================] - 0s 2ms/step - loss: 0.3232 - accuracy: 0.8730 - val_loss: 0.4680 - val_accuracy: 0.8202\n",
      "Epoch 50/50\n",
      "23/23 [==============================] - 0s 2ms/step - loss: 0.3405 - accuracy: 0.8518 - val_loss: 0.4582 - val_accuracy: 0.8258\n"
     ]
    },
    {
     "data": {
      "text/plain": [
       "<tensorflow.python.keras.callbacks.History at 0x7f997a142a30>"
      ]
     },
     "execution_count": 31,
     "metadata": {},
     "output_type": "execute_result"
    }
   ],
   "source": [
    "# Clear any logs from previous runs\n",
    "!rm -rf ./logs/\n",
    "\n",
    "model.fit(train_ds, epochs=50, validation_data=val_ds,\n",
    "         callbacks=[tensorboard_callback])"
   ]
  },
  {
   "cell_type": "code",
   "execution_count": 32,
   "id": "nominated-court",
   "metadata": {},
   "outputs": [
    {
     "data": {
      "text/plain": [
       "Reusing TensorBoard on port 6006 (pid 19744), started 1 day, 4:51:25 ago. (Use '!kill 19744' to kill it.)"
      ]
     },
     "metadata": {},
     "output_type": "display_data"
    },
    {
     "data": {
      "text/html": [
       "\n",
       "      <iframe id=\"tensorboard-frame-a128bdcce5c8ab89\" width=\"100%\" height=\"800\" frameborder=\"0\">\n",
       "      </iframe>\n",
       "      <script>\n",
       "        (function() {\n",
       "          const frame = document.getElementById(\"tensorboard-frame-a128bdcce5c8ab89\");\n",
       "          const url = new URL(\"/\", window.location);\n",
       "          const port = 6006;\n",
       "          if (port) {\n",
       "            url.port = port;\n",
       "          }\n",
       "          frame.src = url;\n",
       "        })();\n",
       "      </script>\n",
       "    "
      ],
      "text/plain": [
       "<IPython.core.display.HTML object>"
      ]
     },
     "metadata": {},
     "output_type": "display_data"
    }
   ],
   "source": [
    "%tensorboard --logdir logs/fit"
   ]
  },
  {
   "cell_type": "code",
   "execution_count": 33,
   "id": "linear-fever",
   "metadata": {},
   "outputs": [
    {
     "data": {
      "text/plain": [
       "Survived            0\n",
       "Pclass              3\n",
       "Sex              male\n",
       "Age         32.409774\n",
       "SibSp               1\n",
       "Parch               0\n",
       "Fare             7.25\n",
       "Embarked            S\n",
       "Title              Mr\n",
       "Deck          Unknown\n",
       "Name: 1, dtype: object"
      ]
     },
     "execution_count": 33,
     "metadata": {},
     "output_type": "execute_result"
    }
   ],
   "source": [
    "train_df.iloc[0]"
   ]
  },
  {
   "cell_type": "code",
   "execution_count": 34,
   "id": "expanded-letter",
   "metadata": {},
   "outputs": [
    {
     "name": "stdout",
     "output_type": "stream",
     "text": [
      "This particular passenger had a 9.9 percent probability of surviving, as evaluated by our model.\n"
     ]
    }
   ],
   "source": [
    "# To get a prediction for a new sample, you can simply call model.predict(). \n",
    "# There are just two things you need to do:\n",
    "# wrap scalars into a list so as to have a batch dimension (models only process batches of data, not single samples)\n",
    "# call convert_to_tensor on each feature\n",
    "\n",
    "sample = {\n",
    "    \"Pclass\": 3,\n",
    "    \"Sex\": \"male\",\n",
    "    \"Age\": 32.409774,\n",
    "    \"SibSp\": 1,\n",
    "    \"Parch\": 0,\n",
    "    \"Fare\": 7.25,\n",
    "    \"Embarked\": \"S\",\n",
    "    \"Title\": \"Mr\",\n",
    "    \"Deck\": \"Unknown\",\n",
    "}\n",
    "\n",
    "input_dict = {name: tf.convert_to_tensor([value]) for name, value in sample.items()}\n",
    "predictions = model.predict(input_dict)\n",
    "\n",
    "print(\n",
    "    \"This particular passenger had a %.1f percent probability \"\n",
    "    \"of surviving, as evaluated by our model.\" % (100 * predictions[0][0],)\n",
    ")"
   ]
  },
  {
   "cell_type": "markdown",
   "id": "excellent-afghanistan",
   "metadata": {},
   "source": [
    "We can see this prediction is right, since the passenger didn't survive."
   ]
  },
  {
   "cell_type": "markdown",
   "id": "manual-cargo",
   "metadata": {},
   "source": [
    "Let's see how this model performs against Autokeras and Catboost."
   ]
  },
  {
   "cell_type": "markdown",
   "id": "green-miniature",
   "metadata": {},
   "source": [
    "# Autokeras"
   ]
  },
  {
   "cell_type": "code",
   "execution_count": 35,
   "id": "comic-november",
   "metadata": {},
   "outputs": [],
   "source": [
    "def dataframe_to_features_and_labels(df):\n",
    "    df = df.copy()\n",
    "    labels = df.pop(\"Survived\")\n",
    "    return df, labels\n",
    "\n",
    "train_df_features, train_df_labels = dataframe_to_features_and_labels(train_df)\n",
    "val_df_features, val_df_labels = dataframe_to_features_and_labels(val_df)"
   ]
  },
  {
   "cell_type": "code",
   "execution_count": 36,
   "id": "perfect-rochester",
   "metadata": {},
   "outputs": [
    {
     "name": "stdout",
     "output_type": "stream",
     "text": [
      "Trial 3 Complete [00h 00m 06s]\n",
      "val_accuracy: 0.8767123222351074\n",
      "\n",
      "Best val_accuracy So Far: 0.8767123222351074\n",
      "Total elapsed time: 00h 00m 19s\n",
      "INFO:tensorflow:Oracle triggered exit\n",
      "Epoch 1/50\n",
      "23/23 [==============================] - 0s 1ms/step - loss: 0.7437 - accuracy: 0.3739\n",
      "Epoch 2/50\n",
      "23/23 [==============================] - 0s 1ms/step - loss: 0.6348 - accuracy: 0.6647\n",
      "Epoch 3/50\n",
      "23/23 [==============================] - 0s 1ms/step - loss: 0.5680 - accuracy: 0.7779\n",
      "Epoch 4/50\n",
      "23/23 [==============================] - 0s 1ms/step - loss: 0.5177 - accuracy: 0.7836\n",
      "Epoch 5/50\n",
      "23/23 [==============================] - 0s 1ms/step - loss: 0.4832 - accuracy: 0.7880\n",
      "Epoch 6/50\n",
      "23/23 [==============================] - 0s 1ms/step - loss: 0.4611 - accuracy: 0.8073\n",
      "Epoch 7/50\n",
      "23/23 [==============================] - 0s 1ms/step - loss: 0.4481 - accuracy: 0.8101\n",
      "Epoch 8/50\n",
      "23/23 [==============================] - 0s 2ms/step - loss: 0.4394 - accuracy: 0.8223\n",
      "Epoch 9/50\n",
      "23/23 [==============================] - 0s 1ms/step - loss: 0.4330 - accuracy: 0.8228\n",
      "Epoch 10/50\n",
      "23/23 [==============================] - 0s 1ms/step - loss: 0.4284 - accuracy: 0.8221\n",
      "Epoch 11/50\n",
      "23/23 [==============================] - 0s 1ms/step - loss: 0.4246 - accuracy: 0.8221\n",
      "Epoch 12/50\n",
      "23/23 [==============================] - 0s 1ms/step - loss: 0.4215 - accuracy: 0.8244\n",
      "Epoch 13/50\n",
      "23/23 [==============================] - 0s 1ms/step - loss: 0.4188 - accuracy: 0.8291\n",
      "Epoch 14/50\n",
      "23/23 [==============================] - 0s 1ms/step - loss: 0.4164 - accuracy: 0.8292\n",
      "Epoch 15/50\n",
      "23/23 [==============================] - 0s 1ms/step - loss: 0.4145 - accuracy: 0.8256\n",
      "Epoch 16/50\n",
      "23/23 [==============================] - 0s 1ms/step - loss: 0.4126 - accuracy: 0.8256\n",
      "Epoch 17/50\n",
      "23/23 [==============================] - 0s 1ms/step - loss: 0.4111 - accuracy: 0.8256\n",
      "Epoch 18/50\n",
      "23/23 [==============================] - 0s 1ms/step - loss: 0.4095 - accuracy: 0.8256\n",
      "Epoch 19/50\n",
      "23/23 [==============================] - 0s 1ms/step - loss: 0.4083 - accuracy: 0.8267\n",
      "Epoch 20/50\n",
      "23/23 [==============================] - 0s 1ms/step - loss: 0.4071 - accuracy: 0.8278\n",
      "Epoch 21/50\n",
      "23/23 [==============================] - 0s 1ms/step - loss: 0.4060 - accuracy: 0.8278\n",
      "Epoch 22/50\n",
      "23/23 [==============================] - 0s 1ms/step - loss: 0.4049 - accuracy: 0.8275\n",
      "Epoch 23/50\n",
      "23/23 [==============================] - 0s 1ms/step - loss: 0.4040 - accuracy: 0.8275\n",
      "Epoch 24/50\n",
      "23/23 [==============================] - 0s 1ms/step - loss: 0.4031 - accuracy: 0.8275\n",
      "Epoch 25/50\n",
      "23/23 [==============================] - 0s 1ms/step - loss: 0.4021 - accuracy: 0.8275\n",
      "Epoch 26/50\n",
      "23/23 [==============================] - 0s 1ms/step - loss: 0.4012 - accuracy: 0.8278\n",
      "Epoch 27/50\n",
      "23/23 [==============================] - 0s 1ms/step - loss: 0.4002 - accuracy: 0.8278\n",
      "Epoch 28/50\n",
      "23/23 [==============================] - 0s 1ms/step - loss: 0.3992 - accuracy: 0.8278\n",
      "Epoch 29/50\n",
      "23/23 [==============================] - 0s 1ms/step - loss: 0.3984 - accuracy: 0.8288\n",
      "Epoch 30/50\n",
      "23/23 [==============================] - 0s 1ms/step - loss: 0.3973 - accuracy: 0.8288\n",
      "Epoch 31/50\n",
      "23/23 [==============================] - 0s 1ms/step - loss: 0.3965 - accuracy: 0.8288\n",
      "Epoch 32/50\n",
      "23/23 [==============================] - 0s 1ms/step - loss: 0.3956 - accuracy: 0.8288\n",
      "Epoch 33/50\n",
      "23/23 [==============================] - 0s 1ms/step - loss: 0.3947 - accuracy: 0.8307\n",
      "Epoch 34/50\n",
      "23/23 [==============================] - 0s 1ms/step - loss: 0.3937 - accuracy: 0.8334\n",
      "Epoch 35/50\n",
      "23/23 [==============================] - 0s 1ms/step - loss: 0.3930 - accuracy: 0.8357\n",
      "Epoch 36/50\n",
      "23/23 [==============================] - 0s 1ms/step - loss: 0.3921 - accuracy: 0.8376\n",
      "Epoch 37/50\n",
      "23/23 [==============================] - 0s 1ms/step - loss: 0.3913 - accuracy: 0.8376\n",
      "Epoch 38/50\n",
      "23/23 [==============================] - 0s 1ms/step - loss: 0.3904 - accuracy: 0.8401\n",
      "Epoch 39/50\n",
      "23/23 [==============================] - 0s 1ms/step - loss: 0.3897 - accuracy: 0.8383\n",
      "Epoch 40/50\n",
      "23/23 [==============================] - 0s 1ms/step - loss: 0.3889 - accuracy: 0.8372\n",
      "Epoch 41/50\n",
      "23/23 [==============================] - 0s 1ms/step - loss: 0.3881 - accuracy: 0.8372\n",
      "Epoch 42/50\n",
      "23/23 [==============================] - 0s 1ms/step - loss: 0.3874 - accuracy: 0.8372\n",
      "Epoch 43/50\n",
      "23/23 [==============================] - 0s 1ms/step - loss: 0.3866 - accuracy: 0.8372\n",
      "Epoch 44/50\n",
      "23/23 [==============================] - 0s 1ms/step - loss: 0.3858 - accuracy: 0.8372\n",
      "Epoch 45/50\n",
      "23/23 [==============================] - 0s 1ms/step - loss: 0.3850 - accuracy: 0.8372\n",
      "Epoch 46/50\n",
      "23/23 [==============================] - 0s 1ms/step - loss: 0.3842 - accuracy: 0.8372\n",
      "Epoch 47/50\n",
      "23/23 [==============================] - 0s 1ms/step - loss: 0.3834 - accuracy: 0.8375\n",
      "Epoch 48/50\n",
      "23/23 [==============================] - 0s 1ms/step - loss: 0.3826 - accuracy: 0.8364\n",
      "Epoch 49/50\n",
      "23/23 [==============================] - 0s 1ms/step - loss: 0.3820 - accuracy: 0.8374\n",
      "Epoch 50/50\n",
      "23/23 [==============================] - 0s 1ms/step - loss: 0.3812 - accuracy: 0.8399\n",
      "INFO:tensorflow:Assets written to: ./structured_data_classifier/best_model/assets\n",
      "WARNING:tensorflow:5 out of the last 5 calls to <function recreate_function.<locals>.restored_function_body at 0x7f999e039d30> triggered tf.function retracing. Tracing is expensive and the excessive number of tracings could be due to (1) creating @tf.function repeatedly in a loop, (2) passing tensors with different shapes, (3) passing Python objects instead of tensors. For (1), please define your @tf.function outside of the loop. For (2), @tf.function has experimental_relax_shapes=True option that relaxes argument shapes that can avoid unnecessary retracing. For (3), please refer to https://www.tensorflow.org/guide/function#controlling_retracing and https://www.tensorflow.org/api_docs/python/tf/function for  more details.\n",
      "WARNING:tensorflow:6 out of the last 6 calls to <function recreate_function.<locals>.restored_function_body at 0x7f999e039c10> triggered tf.function retracing. Tracing is expensive and the excessive number of tracings could be due to (1) creating @tf.function repeatedly in a loop, (2) passing tensors with different shapes, (3) passing Python objects instead of tensors. For (1), please define your @tf.function outside of the loop. For (2), @tf.function has experimental_relax_shapes=True option that relaxes argument shapes that can avoid unnecessary retracing. For (3), please refer to https://www.tensorflow.org/guide/function#controlling_retracing and https://www.tensorflow.org/api_docs/python/tf/function for  more details.\n",
      "WARNING:tensorflow:7 out of the last 7 calls to <function recreate_function.<locals>.restored_function_body at 0x7f997fa494c0> triggered tf.function retracing. Tracing is expensive and the excessive number of tracings could be due to (1) creating @tf.function repeatedly in a loop, (2) passing tensors with different shapes, (3) passing Python objects instead of tensors. For (1), please define your @tf.function outside of the loop. For (2), @tf.function has experimental_relax_shapes=True option that relaxes argument shapes that can avoid unnecessary retracing. For (3), please refer to https://www.tensorflow.org/guide/function#controlling_retracing and https://www.tensorflow.org/api_docs/python/tf/function for  more details.\n",
      "WARNING:tensorflow:8 out of the last 8 calls to <function recreate_function.<locals>.restored_function_body at 0x7f997fafa430> triggered tf.function retracing. Tracing is expensive and the excessive number of tracings could be due to (1) creating @tf.function repeatedly in a loop, (2) passing tensors with different shapes, (3) passing Python objects instead of tensors. For (1), please define your @tf.function outside of the loop. For (2), @tf.function has experimental_relax_shapes=True option that relaxes argument shapes that can avoid unnecessary retracing. For (3), please refer to https://www.tensorflow.org/guide/function#controlling_retracing and https://www.tensorflow.org/api_docs/python/tf/function for  more details.\n"
     ]
    },
    {
     "name": "stdout",
     "output_type": "stream",
     "text": [
      "6/6 [==============================] - 0s 1ms/step - loss: 0.4264 - accuracy: 0.8034\n",
      "[0.4263571500778198, 0.8033707737922668]\n"
     ]
    }
   ],
   "source": [
    "# https://autokeras.com/tutorial/structured_data_classification/\n",
    "import autokeras as ak\n",
    "\n",
    "# Initialize the structured data classifier.\n",
    "clf = ak.StructuredDataClassifier(\n",
    "    overwrite=True, # When building of model fails, \n",
    "                     # set to False and then back to True\n",
    "    max_trials=3) # It tries 3 different models.\n",
    "\n",
    "# Feed the structured data classifier with training data.\n",
    "clf.fit(train_df_features,\n",
    "        train_df_labels,\n",
    "        # Split the training data and use the last 15% as validation data.\n",
    "        validation_split=0.15,\n",
    "        epochs=50)\n",
    "\n",
    "# returns scalar test loss (if the model has a single output and no metrics)\n",
    "# or list of scalars (if the model has multiple outputs and/or metrics)\n",
    "print(clf.evaluate(val_df_features, val_df_labels))"
   ]
  },
  {
   "cell_type": "markdown",
   "id": "spanish-steps",
   "metadata": {},
   "source": [
    "It's (usually) better than our model."
   ]
  },
  {
   "cell_type": "code",
   "execution_count": 37,
   "id": "automated-commons",
   "metadata": {},
   "outputs": [
    {
     "name": "stdout",
     "output_type": "stream",
     "text": [
      "WARNING:tensorflow:9 out of the last 9 calls to <function recreate_function.<locals>.restored_function_body at 0x7f997c859c10> triggered tf.function retracing. Tracing is expensive and the excessive number of tracings could be due to (1) creating @tf.function repeatedly in a loop, (2) passing tensors with different shapes, (3) passing Python objects instead of tensors. For (1), please define your @tf.function outside of the loop. For (2), @tf.function has experimental_relax_shapes=True option that relaxes argument shapes that can avoid unnecessary retracing. For (3), please refer to https://www.tensorflow.org/guide/function#controlling_retracing and https://www.tensorflow.org/api_docs/python/tf/function for  more details.\n",
      "WARNING:tensorflow:10 out of the last 10 calls to <function recreate_function.<locals>.restored_function_body at 0x7f997c866d30> triggered tf.function retracing. Tracing is expensive and the excessive number of tracings could be due to (1) creating @tf.function repeatedly in a loop, (2) passing tensors with different shapes, (3) passing Python objects instead of tensors. For (1), please define your @tf.function outside of the loop. For (2), @tf.function has experimental_relax_shapes=True option that relaxes argument shapes that can avoid unnecessary retracing. For (3), please refer to https://www.tensorflow.org/guide/function#controlling_retracing and https://www.tensorflow.org/api_docs/python/tf/function for  more details.\n",
      "WARNING:tensorflow:11 out of the last 11 calls to <function recreate_function.<locals>.restored_function_body at 0x7f997c853a60> triggered tf.function retracing. Tracing is expensive and the excessive number of tracings could be due to (1) creating @tf.function repeatedly in a loop, (2) passing tensors with different shapes, (3) passing Python objects instead of tensors. For (1), please define your @tf.function outside of the loop. For (2), @tf.function has experimental_relax_shapes=True option that relaxes argument shapes that can avoid unnecessary retracing. For (3), please refer to https://www.tensorflow.org/guide/function#controlling_retracing and https://www.tensorflow.org/api_docs/python/tf/function for  more details.\n",
      "WARNING:tensorflow:11 out of the last 11 calls to <function recreate_function.<locals>.restored_function_body at 0x7f997c86bca0> triggered tf.function retracing. Tracing is expensive and the excessive number of tracings could be due to (1) creating @tf.function repeatedly in a loop, (2) passing tensors with different shapes, (3) passing Python objects instead of tensors. For (1), please define your @tf.function outside of the loop. For (2), @tf.function has experimental_relax_shapes=True option that relaxes argument shapes that can avoid unnecessary retracing. For (3), please refer to https://www.tensorflow.org/guide/function#controlling_retracing and https://www.tensorflow.org/api_docs/python/tf/function for  more details.\n",
      "WARNING:tensorflow:11 out of the last 11 calls to <function recreate_function.<locals>.restored_function_body at 0x7f997c8664c0> triggered tf.function retracing. Tracing is expensive and the excessive number of tracings could be due to (1) creating @tf.function repeatedly in a loop, (2) passing tensors with different shapes, (3) passing Python objects instead of tensors. For (1), please define your @tf.function outside of the loop. For (2), @tf.function has experimental_relax_shapes=True option that relaxes argument shapes that can avoid unnecessary retracing. For (3), please refer to https://www.tensorflow.org/guide/function#controlling_retracing and https://www.tensorflow.org/api_docs/python/tf/function for  more details.\n",
      "WARNING:tensorflow:11 out of the last 11 calls to <function recreate_function.<locals>.restored_function_body at 0x7f997c8599d0> triggered tf.function retracing. Tracing is expensive and the excessive number of tracings could be due to (1) creating @tf.function repeatedly in a loop, (2) passing tensors with different shapes, (3) passing Python objects instead of tensors. For (1), please define your @tf.function outside of the loop. For (2), @tf.function has experimental_relax_shapes=True option that relaxes argument shapes that can avoid unnecessary retracing. For (3), please refer to https://www.tensorflow.org/guide/function#controlling_retracing and https://www.tensorflow.org/api_docs/python/tf/function for  more details.\n",
      "WARNING:tensorflow:11 out of the last 11 calls to <function recreate_function.<locals>.restored_function_body at 0x7f997c86a160> triggered tf.function retracing. Tracing is expensive and the excessive number of tracings could be due to (1) creating @tf.function repeatedly in a loop, (2) passing tensors with different shapes, (3) passing Python objects instead of tensors. For (1), please define your @tf.function outside of the loop. For (2), @tf.function has experimental_relax_shapes=True option that relaxes argument shapes that can avoid unnecessary retracing. For (3), please refer to https://www.tensorflow.org/guide/function#controlling_retracing and https://www.tensorflow.org/api_docs/python/tf/function for  more details.\n",
      "WARNING:tensorflow:11 out of the last 11 calls to <function recreate_function.<locals>.restored_function_body at 0x7f997c87faf0> triggered tf.function retracing. Tracing is expensive and the excessive number of tracings could be due to (1) creating @tf.function repeatedly in a loop, (2) passing tensors with different shapes, (3) passing Python objects instead of tensors. For (1), please define your @tf.function outside of the loop. For (2), @tf.function has experimental_relax_shapes=True option that relaxes argument shapes that can avoid unnecessary retracing. For (3), please refer to https://www.tensorflow.org/guide/function#controlling_retracing and https://www.tensorflow.org/api_docs/python/tf/function for  more details.\n",
      "Model: \"model\"\n",
      "_________________________________________________________________\n",
      "Layer (type)                 Output Shape              Param #   \n",
      "=================================================================\n",
      "input_1 (InputLayer)         [(None, 9)]               0         \n",
      "_________________________________________________________________\n",
      "multi_category_encoding (Mul (None, 9)                 0         \n",
      "_________________________________________________________________\n",
      "normalization (Normalization (None, 9)                 19        \n",
      "_________________________________________________________________\n",
      "dense (Dense)                (None, 32)                320       \n",
      "_________________________________________________________________\n",
      "re_lu (ReLU)                 (None, 32)                0         \n",
      "_________________________________________________________________\n",
      "dense_1 (Dense)              (None, 32)                1056      \n",
      "_________________________________________________________________\n",
      "re_lu_1 (ReLU)               (None, 32)                0         \n",
      "_________________________________________________________________\n",
      "dense_2 (Dense)              (None, 1)                 33        \n",
      "_________________________________________________________________\n",
      "classification_head_1 (Activ (None, 1)                 0         \n",
      "=================================================================\n",
      "Total params: 1,428\n",
      "Trainable params: 1,409\n",
      "Non-trainable params: 19\n",
      "_________________________________________________________________\n"
     ]
    }
   ],
   "source": [
    "# winning model:\n",
    "clf.export_model().summary()"
   ]
  },
  {
   "cell_type": "markdown",
   "id": "cultural-yahoo",
   "metadata": {},
   "source": [
    "# Catboost"
   ]
  },
  {
   "cell_type": "code",
   "execution_count": 38,
   "id": "pharmaceutical-hierarchy",
   "metadata": {},
   "outputs": [
    {
     "data": {
      "text/html": [
       "<div>\n",
       "<style scoped>\n",
       "    .dataframe tbody tr th:only-of-type {\n",
       "        vertical-align: middle;\n",
       "    }\n",
       "\n",
       "    .dataframe tbody tr th {\n",
       "        vertical-align: top;\n",
       "    }\n",
       "\n",
       "    .dataframe thead th {\n",
       "        text-align: right;\n",
       "    }\n",
       "</style>\n",
       "<table border=\"1\" class=\"dataframe\">\n",
       "  <thead>\n",
       "    <tr style=\"text-align: right;\">\n",
       "      <th></th>\n",
       "      <th>Pclass</th>\n",
       "      <th>Sex</th>\n",
       "      <th>Age</th>\n",
       "      <th>SibSp</th>\n",
       "      <th>Parch</th>\n",
       "      <th>Fare</th>\n",
       "      <th>Embarked</th>\n",
       "      <th>Title</th>\n",
       "      <th>Deck</th>\n",
       "    </tr>\n",
       "    <tr>\n",
       "      <th>PassengerId</th>\n",
       "      <th></th>\n",
       "      <th></th>\n",
       "      <th></th>\n",
       "      <th></th>\n",
       "      <th></th>\n",
       "      <th></th>\n",
       "      <th></th>\n",
       "      <th></th>\n",
       "      <th></th>\n",
       "    </tr>\n",
       "  </thead>\n",
       "  <tbody>\n",
       "    <tr>\n",
       "      <th>1</th>\n",
       "      <td>3</td>\n",
       "      <td>male</td>\n",
       "      <td>32.409774</td>\n",
       "      <td>1</td>\n",
       "      <td>0</td>\n",
       "      <td>7.2500</td>\n",
       "      <td>S</td>\n",
       "      <td>Mr</td>\n",
       "      <td>Unknown</td>\n",
       "    </tr>\n",
       "    <tr>\n",
       "      <th>2</th>\n",
       "      <td>1</td>\n",
       "      <td>female</td>\n",
       "      <td>35.642857</td>\n",
       "      <td>1</td>\n",
       "      <td>0</td>\n",
       "      <td>71.2833</td>\n",
       "      <td>C</td>\n",
       "      <td>Mrs</td>\n",
       "      <td>C</td>\n",
       "    </tr>\n",
       "    <tr>\n",
       "      <th>3</th>\n",
       "      <td>3</td>\n",
       "      <td>female</td>\n",
       "      <td>21.777778</td>\n",
       "      <td>0</td>\n",
       "      <td>0</td>\n",
       "      <td>7.9250</td>\n",
       "      <td>S</td>\n",
       "      <td>Miss</td>\n",
       "      <td>Unknown</td>\n",
       "    </tr>\n",
       "    <tr>\n",
       "      <th>4</th>\n",
       "      <td>1</td>\n",
       "      <td>female</td>\n",
       "      <td>35.642857</td>\n",
       "      <td>1</td>\n",
       "      <td>0</td>\n",
       "      <td>53.1000</td>\n",
       "      <td>S</td>\n",
       "      <td>Mrs</td>\n",
       "      <td>C</td>\n",
       "    </tr>\n",
       "    <tr>\n",
       "      <th>5</th>\n",
       "      <td>3</td>\n",
       "      <td>male</td>\n",
       "      <td>32.409774</td>\n",
       "      <td>0</td>\n",
       "      <td>0</td>\n",
       "      <td>8.0500</td>\n",
       "      <td>S</td>\n",
       "      <td>Mr</td>\n",
       "      <td>Unknown</td>\n",
       "    </tr>\n",
       "    <tr>\n",
       "      <th>...</th>\n",
       "      <td>...</td>\n",
       "      <td>...</td>\n",
       "      <td>...</td>\n",
       "      <td>...</td>\n",
       "      <td>...</td>\n",
       "      <td>...</td>\n",
       "      <td>...</td>\n",
       "      <td>...</td>\n",
       "      <td>...</td>\n",
       "    </tr>\n",
       "    <tr>\n",
       "      <th>884</th>\n",
       "      <td>2</td>\n",
       "      <td>male</td>\n",
       "      <td>32.409774</td>\n",
       "      <td>0</td>\n",
       "      <td>0</td>\n",
       "      <td>10.5000</td>\n",
       "      <td>S</td>\n",
       "      <td>Mr</td>\n",
       "      <td>Unknown</td>\n",
       "    </tr>\n",
       "    <tr>\n",
       "      <th>885</th>\n",
       "      <td>3</td>\n",
       "      <td>male</td>\n",
       "      <td>32.409774</td>\n",
       "      <td>0</td>\n",
       "      <td>0</td>\n",
       "      <td>7.0500</td>\n",
       "      <td>S</td>\n",
       "      <td>Mr</td>\n",
       "      <td>Unknown</td>\n",
       "    </tr>\n",
       "    <tr>\n",
       "      <th>888</th>\n",
       "      <td>1</td>\n",
       "      <td>female</td>\n",
       "      <td>21.777778</td>\n",
       "      <td>0</td>\n",
       "      <td>0</td>\n",
       "      <td>30.0000</td>\n",
       "      <td>S</td>\n",
       "      <td>Miss</td>\n",
       "      <td>B</td>\n",
       "    </tr>\n",
       "    <tr>\n",
       "      <th>889</th>\n",
       "      <td>3</td>\n",
       "      <td>female</td>\n",
       "      <td>21.777778</td>\n",
       "      <td>1</td>\n",
       "      <td>2</td>\n",
       "      <td>23.4500</td>\n",
       "      <td>S</td>\n",
       "      <td>Miss</td>\n",
       "      <td>Unknown</td>\n",
       "    </tr>\n",
       "    <tr>\n",
       "      <th>891</th>\n",
       "      <td>3</td>\n",
       "      <td>male</td>\n",
       "      <td>32.409774</td>\n",
       "      <td>0</td>\n",
       "      <td>0</td>\n",
       "      <td>7.7500</td>\n",
       "      <td>Q</td>\n",
       "      <td>Mr</td>\n",
       "      <td>Unknown</td>\n",
       "    </tr>\n",
       "  </tbody>\n",
       "</table>\n",
       "<p>713 rows × 9 columns</p>\n",
       "</div>"
      ],
      "text/plain": [
       "             Pclass     Sex        Age  SibSp  Parch     Fare Embarked Title  \\\n",
       "PassengerId                                                                    \n",
       "1                 3    male  32.409774      1      0   7.2500        S    Mr   \n",
       "2                 1  female  35.642857      1      0  71.2833        C   Mrs   \n",
       "3                 3  female  21.777778      0      0   7.9250        S  Miss   \n",
       "4                 1  female  35.642857      1      0  53.1000        S   Mrs   \n",
       "5                 3    male  32.409774      0      0   8.0500        S    Mr   \n",
       "...             ...     ...        ...    ...    ...      ...      ...   ...   \n",
       "884               2    male  32.409774      0      0  10.5000        S    Mr   \n",
       "885               3    male  32.409774      0      0   7.0500        S    Mr   \n",
       "888               1  female  21.777778      0      0  30.0000        S  Miss   \n",
       "889               3  female  21.777778      1      2  23.4500        S  Miss   \n",
       "891               3    male  32.409774      0      0   7.7500        Q    Mr   \n",
       "\n",
       "                Deck  \n",
       "PassengerId           \n",
       "1            Unknown  \n",
       "2                  C  \n",
       "3            Unknown  \n",
       "4                  C  \n",
       "5            Unknown  \n",
       "...              ...  \n",
       "884          Unknown  \n",
       "885          Unknown  \n",
       "888                B  \n",
       "889          Unknown  \n",
       "891          Unknown  \n",
       "\n",
       "[713 rows x 9 columns]"
      ]
     },
     "execution_count": 38,
     "metadata": {},
     "output_type": "execute_result"
    }
   ],
   "source": [
    "train_df_features"
   ]
  },
  {
   "cell_type": "code",
   "execution_count": 39,
   "id": "square-death",
   "metadata": {},
   "outputs": [
    {
     "name": "stdout",
     "output_type": "stream",
     "text": [
      "Learning rate set to 0.5\n",
      "0:\tlearn: 0.5401037\ttotal: 56.8ms\tremaining: 511ms\n",
      "1:\tlearn: 0.4798297\ttotal: 59.5ms\tremaining: 238ms\n",
      "2:\tlearn: 0.4445320\ttotal: 61.3ms\tremaining: 143ms\n",
      "3:\tlearn: 0.4226385\ttotal: 62.9ms\tremaining: 94.3ms\n",
      "4:\tlearn: 0.4111716\ttotal: 65.1ms\tremaining: 65.1ms\n",
      "5:\tlearn: 0.4031737\ttotal: 67.6ms\tremaining: 45.1ms\n",
      "6:\tlearn: 0.4019408\ttotal: 68.9ms\tremaining: 29.5ms\n",
      "7:\tlearn: 0.3973292\ttotal: 71.1ms\tremaining: 17.8ms\n",
      "8:\tlearn: 0.3921274\ttotal: 73.3ms\tremaining: 8.15ms\n",
      "9:\tlearn: 0.3896178\ttotal: 75.3ms\tremaining: 0us\n"
     ]
    },
    {
     "data": {
      "text/plain": [
       "0.8089887640449438"
      ]
     },
     "execution_count": 39,
     "metadata": {},
     "output_type": "execute_result"
    }
   ],
   "source": [
    "from catboost import CatBoostClassifier, Pool\n",
    "\n",
    "# specify categorical features, otherwise everything would have been\n",
    "# handled as float and fail\n",
    "categorical_features = [\"Pclass\", \"Sex\", \"Title\", \"Deck\", \"Embarked\"]\n",
    "train_data = Pool(data=train_df_features,\n",
    "                  label=train_df_labels,\n",
    "                  cat_features=categorical_features)\n",
    "test_data = Pool(data=val_df_features,\n",
    "                  label=val_df_labels,\n",
    "                  cat_features=categorical_features)\n",
    "catboost_model = CatBoostClassifier(iterations=10)\n",
    "\n",
    "catboost_model.fit(train_data)\n",
    "catboost_model.score(test_data)"
   ]
  },
  {
   "cell_type": "markdown",
   "id": "posted-winner",
   "metadata": {},
   "source": [
    "It's slightly worse than our model."
   ]
  },
  {
   "cell_type": "markdown",
   "id": "intellectual-passport",
   "metadata": {},
   "source": [
    "Let's model my fashion mnist model using Keras."
   ]
  },
  {
   "cell_type": "code",
   "execution_count": 51,
   "id": "processed-deadline",
   "metadata": {},
   "outputs": [],
   "source": [
    "(x_train, y_train), (x_test, y_test) = [(x.reshape((len(x), 784)).astype(float)/255, keras.utils.to_categorical(y)) for x, y in keras.datasets.fashion_mnist.load_data()]"
   ]
  },
  {
   "cell_type": "code",
   "execution_count": 58,
   "id": "found-desire",
   "metadata": {},
   "outputs": [
    {
     "name": "stdout",
     "output_type": "stream",
     "text": [
      "Epoch 1/50\n",
      "3000/3000 [==============================] - 3s 915us/step - loss: 0.7016 - accuracy: 0.7569 - val_loss: 0.4908 - val_accuracy: 0.8347\n",
      "Epoch 2/50\n",
      "3000/3000 [==============================] - 2s 806us/step - loss: 0.4276 - accuracy: 0.8541 - val_loss: 0.4135 - val_accuracy: 0.8589\n",
      "Epoch 3/50\n",
      "3000/3000 [==============================] - 2s 791us/step - loss: 0.3890 - accuracy: 0.8661 - val_loss: 0.4059 - val_accuracy: 0.8546\n",
      "Epoch 4/50\n",
      "3000/3000 [==============================] - 2s 806us/step - loss: 0.3666 - accuracy: 0.8711 - val_loss: 0.3717 - val_accuracy: 0.8758\n",
      "Epoch 5/50\n",
      "3000/3000 [==============================] - 2s 768us/step - loss: 0.3478 - accuracy: 0.8822 - val_loss: 0.3816 - val_accuracy: 0.8702\n",
      "Epoch 6/50\n",
      "3000/3000 [==============================] - 2s 799us/step - loss: 0.3345 - accuracy: 0.8858 - val_loss: 0.3933 - val_accuracy: 0.8618\n",
      "Epoch 7/50\n",
      "3000/3000 [==============================] - 2s 763us/step - loss: 0.3239 - accuracy: 0.8866 - val_loss: 0.3986 - val_accuracy: 0.8644\n",
      "Epoch 8/50\n",
      "3000/3000 [==============================] - 2s 777us/step - loss: 0.2880 - accuracy: 0.9048 - val_loss: 0.3522 - val_accuracy: 0.8838\n",
      "Epoch 9/50\n",
      "3000/3000 [==============================] - 2s 781us/step - loss: 0.2756 - accuracy: 0.9081 - val_loss: 0.3437 - val_accuracy: 0.8882\n",
      "Epoch 10/50\n",
      "3000/3000 [==============================] - 2s 770us/step - loss: 0.2853 - accuracy: 0.9055 - val_loss: 0.3410 - val_accuracy: 0.8906\n",
      "Epoch 11/50\n",
      "3000/3000 [==============================] - 2s 771us/step - loss: 0.2745 - accuracy: 0.9107 - val_loss: 0.3548 - val_accuracy: 0.8827\n",
      "Epoch 12/50\n",
      "3000/3000 [==============================] - 2s 767us/step - loss: 0.2720 - accuracy: 0.9102 - val_loss: 0.3393 - val_accuracy: 0.8894\n",
      "Epoch 13/50\n",
      "3000/3000 [==============================] - 2s 798us/step - loss: 0.2679 - accuracy: 0.9135 - val_loss: 0.3381 - val_accuracy: 0.8903\n",
      "Epoch 14/50\n",
      "3000/3000 [==============================] - 2s 805us/step - loss: 0.2472 - accuracy: 0.9214 - val_loss: 0.3328 - val_accuracy: 0.8926\n",
      "Epoch 15/50\n",
      "3000/3000 [==============================] - 3s 896us/step - loss: 0.2501 - accuracy: 0.9195 - val_loss: 0.3297 - val_accuracy: 0.8928\n",
      "Epoch 16/50\n",
      "3000/3000 [==============================] - 2s 832us/step - loss: 0.2369 - accuracy: 0.9261 - val_loss: 0.3352 - val_accuracy: 0.8909\n",
      "Epoch 17/50\n",
      "3000/3000 [==============================] - 2s 767us/step - loss: 0.2368 - accuracy: 0.9250 - val_loss: 0.3297 - val_accuracy: 0.8926\n",
      "Epoch 18/50\n",
      "3000/3000 [==============================] - 2s 778us/step - loss: 0.2359 - accuracy: 0.9267 - val_loss: 0.3345 - val_accuracy: 0.8913\n",
      "Epoch 19/50\n",
      "3000/3000 [==============================] - 2s 799us/step - loss: 0.2251 - accuracy: 0.9314 - val_loss: 0.3329 - val_accuracy: 0.8926\n",
      "Epoch 20/50\n",
      "3000/3000 [==============================] - 3s 865us/step - loss: 0.2259 - accuracy: 0.9293 - val_loss: 0.3268 - val_accuracy: 0.8951\n",
      "Epoch 21/50\n",
      "3000/3000 [==============================] - 3s 835us/step - loss: 0.2249 - accuracy: 0.9327 - val_loss: 0.3306 - val_accuracy: 0.8915\n",
      "Epoch 22/50\n",
      "3000/3000 [==============================] - 2s 776us/step - loss: 0.2225 - accuracy: 0.9326 - val_loss: 0.3292 - val_accuracy: 0.8915\n",
      "Epoch 23/50\n",
      "3000/3000 [==============================] - 2s 788us/step - loss: 0.2194 - accuracy: 0.9320 - val_loss: 0.3306 - val_accuracy: 0.8923\n",
      "Epoch 24/50\n",
      "3000/3000 [==============================] - 2s 782us/step - loss: 0.2158 - accuracy: 0.9358 - val_loss: 0.3280 - val_accuracy: 0.8945\n",
      "Epoch 25/50\n",
      "3000/3000 [==============================] - 3s 904us/step - loss: 0.2137 - accuracy: 0.9360 - val_loss: 0.3262 - val_accuracy: 0.8946\n",
      "Epoch 26/50\n",
      "3000/3000 [==============================] - 3s 934us/step - loss: 0.2162 - accuracy: 0.9350 - val_loss: 0.3250 - val_accuracy: 0.8947\n",
      "Epoch 27/50\n",
      "3000/3000 [==============================] - 3s 836us/step - loss: 0.2085 - accuracy: 0.9396 - val_loss: 0.3256 - val_accuracy: 0.8957\n",
      "Epoch 28/50\n",
      "3000/3000 [==============================] - 3s 839us/step - loss: 0.2121 - accuracy: 0.9381 - val_loss: 0.3251 - val_accuracy: 0.8949\n",
      "Epoch 29/50\n",
      "3000/3000 [==============================] - 2s 767us/step - loss: 0.2159 - accuracy: 0.9355 - val_loss: 0.3247 - val_accuracy: 0.8953\n",
      "Epoch 30/50\n",
      "3000/3000 [==============================] - 2s 778us/step - loss: 0.2069 - accuracy: 0.9399 - val_loss: 0.3247 - val_accuracy: 0.8947\n",
      "Epoch 31/50\n",
      "3000/3000 [==============================] - 2s 815us/step - loss: 0.2091 - accuracy: 0.9386 - val_loss: 0.3247 - val_accuracy: 0.8954\n",
      "Epoch 32/50\n",
      "3000/3000 [==============================] - 2s 776us/step - loss: 0.2048 - accuracy: 0.9400 - val_loss: 0.3250 - val_accuracy: 0.8943\n",
      "Epoch 33/50\n",
      "3000/3000 [==============================] - 2s 825us/step - loss: 0.2053 - accuracy: 0.9399 - val_loss: 0.3251 - val_accuracy: 0.8957\n",
      "Epoch 34/50\n",
      "3000/3000 [==============================] - 3s 922us/step - loss: 0.2070 - accuracy: 0.9389 - val_loss: 0.3246 - val_accuracy: 0.8959\n",
      "Epoch 35/50\n",
      "3000/3000 [==============================] - 3s 868us/step - loss: 0.2074 - accuracy: 0.9385 - val_loss: 0.3247 - val_accuracy: 0.8951\n",
      "Epoch 36/50\n",
      "3000/3000 [==============================] - 2s 778us/step - loss: 0.2096 - accuracy: 0.9395 - val_loss: 0.3247 - val_accuracy: 0.8961\n",
      "Epoch 37/50\n",
      "3000/3000 [==============================] - 3s 835us/step - loss: 0.2113 - accuracy: 0.9375 - val_loss: 0.3244 - val_accuracy: 0.8956\n",
      "Epoch 38/50\n",
      "3000/3000 [==============================] - 2s 830us/step - loss: 0.2094 - accuracy: 0.9384 - val_loss: 0.3246 - val_accuracy: 0.8956\n",
      "Epoch 39/50\n",
      "3000/3000 [==============================] - 2s 781us/step - loss: 0.2079 - accuracy: 0.9395 - val_loss: 0.3244 - val_accuracy: 0.8953\n",
      "Epoch 40/50\n",
      "3000/3000 [==============================] - 2s 770us/step - loss: 0.2059 - accuracy: 0.9407 - val_loss: 0.3245 - val_accuracy: 0.8952\n",
      "Epoch 41/50\n",
      "3000/3000 [==============================] - 2s 737us/step - loss: 0.2054 - accuracy: 0.9422 - val_loss: 0.3246 - val_accuracy: 0.8959\n",
      "Epoch 42/50\n",
      "3000/3000 [==============================] - 2s 758us/step - loss: 0.2086 - accuracy: 0.9392 - val_loss: 0.3243 - val_accuracy: 0.8953\n",
      "Epoch 43/50\n",
      "3000/3000 [==============================] - 2s 791us/step - loss: 0.2054 - accuracy: 0.9419 - val_loss: 0.3244 - val_accuracy: 0.8959\n",
      "Epoch 44/50\n",
      "3000/3000 [==============================] - 3s 860us/step - loss: 0.2098 - accuracy: 0.9376 - val_loss: 0.3244 - val_accuracy: 0.8954\n",
      "Epoch 45/50\n",
      "3000/3000 [==============================] - 3s 893us/step - loss: 0.2083 - accuracy: 0.9389 - val_loss: 0.3244 - val_accuracy: 0.8956\n",
      "Epoch 46/50\n",
      "3000/3000 [==============================] - 2s 746us/step - loss: 0.2079 - accuracy: 0.9390 - val_loss: 0.3244 - val_accuracy: 0.8957\n",
      "313/313 [==============================] - 0s 873us/step - loss: 0.3495 - accuracy: 0.8891\n",
      "Test acc: 88.9100 %\n"
     ]
    }
   ],
   "source": [
    "from tensorflow.keras import initializers\n",
    "\n",
    "# Clear any logs from previous runs\n",
    "!rm -rf ./logs/\n",
    "\n",
    "bias_init = initializers.Zeros()\n",
    "\n",
    "weight_init_hidden = initializers.HeNormal()\n",
    "weight_init_last = initializers.GlorotNormal()\n",
    "\n",
    "# in my solution, loss added via regularization is: λ/(2n) * ∑(over weights w)[w^2],\n",
    "# where n is total number of samples\n",
    "# in keras, it is: l2 * ∑(over weights w)[w^2]\n",
    "# to make it the same: n = 60000 * 0.8 (validation split) = 48000\n",
    "#                      l2 = λ/(2n) = 5/96000 = 0.00005\n",
    "regularization = keras.regularizers.l2(l2=0.00005)\n",
    "\n",
    "# stop learning when validation accuracy does not improve for 10 epochs in a row\n",
    "es = keras.callbacks.EarlyStopping(monitor='val_accuracy', patience=10)\n",
    "# halve learning rate when validation accuracy does not improve for 3 epochs in a row\n",
    "reduce_lr = keras.callbacks.ReduceLROnPlateau(monitor='val_accuracy', factor=0.5,\n",
    "                              patience=3)\n",
    "\n",
    "my_fashion_mnist_model = keras.models.Sequential([\n",
    "    keras.layers.Dense(128, 'relu', input_shape=(784,), \n",
    "                       kernel_initializer=weight_init_hidden, \n",
    "                       bias_initializer=bias_init,\n",
    "                       kernel_regularizer=regularization), \n",
    "    keras.layers.Dense(10, 'softmax', \n",
    "                       kernel_initializer=weight_init_last,\n",
    "                       bias_initializer=bias_init,\n",
    "                       kernel_regularizer=regularization)\n",
    "])\n",
    "\n",
    "sgd = keras.optimizers.SGD(\n",
    "    learning_rate=0.05, momentum=0.2, nesterov=False,\n",
    ")\n",
    "my_fashion_mnist_model.compile(optimizer=sgd, loss='categorical_crossentropy', metrics=['accuracy'])\n",
    "history = my_fashion_mnist_model.fit(x_train, y_train, epochs=50, batch_size=16, verbose=1, validation_split=0.2,\n",
    "                       callbacks=[tensorboard_callback_fashion_mnist, es, reduce_lr])\n",
    "\n",
    "print(f'Test acc: {my_fashion_mnist_model.evaluate(x_test, y_test, verbose=1)[1]*100:2.4f} %')"
   ]
  },
  {
   "cell_type": "code",
   "execution_count": 44,
   "id": "hairy-villa",
   "metadata": {},
   "outputs": [
    {
     "data": {
      "image/png": "[encoded data removed]",
      "text/plain": [
       "<Figure size 432x288 with 1 Axes>"
      ]
     },
     "metadata": {
      "needs_background": "light"
     },
     "output_type": "display_data"
    }
   ],
   "source": [
    "from matplotlib import pyplot as plt\n",
    "\n",
    "# plot training history\n",
    "plt.plot(history.history['loss'], label='train')\n",
    "plt.plot(history.history['val_loss'], label='test')\n",
    "plt.legend()\n",
    "plt.show()"
   ]
  },
  {
   "cell_type": "code",
   "execution_count": 45,
   "id": "cognitive-selling",
   "metadata": {},
   "outputs": [
    {
     "data": {
      "image/png": "[encoded data removed]",
      "text/plain": [
       "<Figure size 432x288 with 1 Axes>"
      ]
     },
     "metadata": {
      "needs_background": "light"
     },
     "output_type": "display_data"
    }
   ],
   "source": [
    "plt.plot(history.history['accuracy'], label='train')\n",
    "plt.plot(history.history['val_accuracy'], label='test')\n",
    "plt.legend()\n",
    "plt.show()"
   ]
  },
  {
   "cell_type": "code",
   "execution_count": 46,
   "id": "settled-ready",
   "metadata": {},
   "outputs": [
    {
     "data": {
      "text/plain": [
       "Reusing TensorBoard on port 6006 (pid 19744), started 1 day, 4:52:09 ago. (Use '!kill 19744' to kill it.)"
      ]
     },
     "metadata": {},
     "output_type": "display_data"
    },
    {
     "data": {
      "text/html": [
       "\n",
       "      <iframe id=\"tensorboard-frame-3fd88e5b1a92369a\" width=\"100%\" height=\"800\" frameborder=\"0\">\n",
       "      </iframe>\n",
       "      <script>\n",
       "        (function() {\n",
       "          const frame = document.getElementById(\"tensorboard-frame-3fd88e5b1a92369a\");\n",
       "          const url = new URL(\"/\", window.location);\n",
       "          const port = 6006;\n",
       "          if (port) {\n",
       "            url.port = port;\n",
       "          }\n",
       "          frame.src = url;\n",
       "        })();\n",
       "      </script>\n",
       "    "
      ],
      "text/plain": [
       "<IPython.core.display.HTML object>"
      ]
     },
     "metadata": {},
     "output_type": "display_data"
    }
   ],
   "source": [
    "%tensorboard --logdir logs/fit"
   ]
  },
  {
   "cell_type": "markdown",
   "id": "progressive-overhead",
   "metadata": {},
   "source": [
    "# LSTM\n",
    "Let's force the use of LSTM..."
   ]
  },
  {
   "cell_type": "code",
   "execution_count": 47,
   "id": "greatest-reviewer",
   "metadata": {},
   "outputs": [
    {
     "name": "stdout",
     "output_type": "stream",
     "text": [
      "313/313 [==============================] - 0s 1ms/step - loss: 0.3457 - accuracy: 0.8751\n",
      "Test acc: 87.5100 %\n"
     ]
    }
   ],
   "source": [
    "# add third dimension (we have len(x) samples, each sample is a sequence of 1 input, 1 input has 784 features)\n",
    "(x_train, y_train), (x_test, y_test) = [(x.reshape((len(x), 1, 784)).astype(float)/255, keras.utils.to_categorical(y)) for x, y in keras.datasets.fashion_mnist.load_data()]\n",
    "\n",
    "fashion_mnist_model = keras.models.Sequential([\n",
    "    keras.layers.LSTM(256, 'relu'), \n",
    "    keras.layers.Dense(10, 'softmax')\n",
    "])\n",
    "\n",
    "fashion_mnist_model.compile(optimizer='adam', loss='categorical_crossentropy', metrics=['accuracy'])\n",
    "fashion_mnist_model.fit(x_train, y_train, epochs=6, batch_size=124, verbose=0, validation_split=0.1)\n",
    "\n",
    "print(f'Test acc: {fashion_mnist_model.evaluate(x_test, y_test, verbose=1)[1]*100:2.4f} %')"
   ]
  },
  {
   "cell_type": "code",
   "execution_count": null,
   "id": "diverse-directive",
   "metadata": {},
   "outputs": [],
   "source": []
  }
 ],
 "metadata": {
  "kernelspec": {
   "display_name": "Python 3",
   "language": "python",
   "name": "python3"
  },
  "language_info": {
   "codemirror_mode": {
    "name": "ipython",
    "version": 3
   },
   "file_extension": ".py",
   "mimetype": "text/x-python",
   "name": "python",
   "nbconvert_exporter": "python",
   "pygments_lexer": "ipython3",
   "version": "3.8.7"
  }
 },
 "nbformat": 4,
 "nbformat_minor": 5
}
